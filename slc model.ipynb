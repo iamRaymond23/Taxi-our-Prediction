{
 "cells": [
  {
   "cell_type": "markdown",
   "metadata": {},
   "source": [
    "   # Taxi-Out Prediction"
   ]
  },
  {
   "cell_type": "code",
   "execution_count": 1,
   "metadata": {},
   "outputs": [],
   "source": [
    "import pandas as pd\n",
    "import numpy as np\n",
    "import seaborn as sns\n",
    "import matplotlib.pyplot as plt\n",
    "from scipy.stats import zscore \n",
    "from scipy.stats import shapiro\n",
    "from sklearn.metrics import classification_report\n",
    "import warnings\n",
    "warnings.filterwarnings('ignore')"
   ]
  },
  {
   "cell_type": "markdown",
   "metadata": {},
   "source": [
    "#### Reading the Dataset"
   ]
  },
  {
   "cell_type": "code",
   "execution_count": 2,
   "metadata": {},
   "outputs": [],
   "source": [
    "df = pd.read_csv('Taxi_out_processed.csv')\n",
    "df = df.drop('Unnamed: 0',axis = 1)"
   ]
  },
  {
   "cell_type": "code",
   "execution_count": 3,
   "metadata": {},
   "outputs": [
    {
     "data": {
      "text/html": [
       "<div>\n",
       "<style scoped>\n",
       "    .dataframe tbody tr th:only-of-type {\n",
       "        vertical-align: middle;\n",
       "    }\n",
       "\n",
       "    .dataframe tbody tr th {\n",
       "        vertical-align: top;\n",
       "    }\n",
       "\n",
       "    .dataframe thead th {\n",
       "        text-align: right;\n",
       "    }\n",
       "</style>\n",
       "<table border=\"1\" class=\"dataframe\">\n",
       "  <thead>\n",
       "    <tr style=\"text-align: right;\">\n",
       "      <th></th>\n",
       "      <th>DAY_OF_WEEK</th>\n",
       "      <th>CARRIER_CODE</th>\n",
       "      <th>DEST</th>\n",
       "      <th>DEP_DELAY</th>\n",
       "      <th>SCHEDULED_DURATION</th>\n",
       "      <th>DISTANCE</th>\n",
       "      <th>SCHEDULED_DEPARTURE</th>\n",
       "      <th>ACTUAL_DEPATURE</th>\n",
       "      <th>SCHEDULED_ARRIVAL</th>\n",
       "      <th>Temperature</th>\n",
       "      <th>...</th>\n",
       "      <th>Wind Speed</th>\n",
       "      <th>Wind Gust</th>\n",
       "      <th>Pressure</th>\n",
       "      <th>Condition</th>\n",
       "      <th>FLT_SCH_DEPATURE</th>\n",
       "      <th>FLT_SCH_ARRIVAL</th>\n",
       "      <th>TAXI_OUT</th>\n",
       "      <th>SPEED</th>\n",
       "      <th>Region</th>\n",
       "      <th>FLIGHT_TRAFFIC</th>\n",
       "    </tr>\n",
       "  </thead>\n",
       "  <tbody>\n",
       "    <tr>\n",
       "      <th>0</th>\n",
       "      <td>5</td>\n",
       "      <td>DL</td>\n",
       "      <td>SFO</td>\n",
       "      <td>EARLY</td>\n",
       "      <td>6.516667</td>\n",
       "      <td>4161.75324</td>\n",
       "      <td>Morning</td>\n",
       "      <td>Morning</td>\n",
       "      <td>Morning</td>\n",
       "      <td>47</td>\n",
       "      <td>...</td>\n",
       "      <td>24</td>\n",
       "      <td>29</td>\n",
       "      <td>30.0</td>\n",
       "      <td>Fair / Windy</td>\n",
       "      <td>17</td>\n",
       "      <td>21</td>\n",
       "      <td>L</td>\n",
       "      <td>638.632211</td>\n",
       "      <td>West</td>\n",
       "      <td>Medium</td>\n",
       "    </tr>\n",
       "    <tr>\n",
       "      <th>1</th>\n",
       "      <td>5</td>\n",
       "      <td>DL</td>\n",
       "      <td>SLC</td>\n",
       "      <td>EARLY</td>\n",
       "      <td>5.350000</td>\n",
       "      <td>3202.58660</td>\n",
       "      <td>Morning</td>\n",
       "      <td>Morning</td>\n",
       "      <td>Morning</td>\n",
       "      <td>47</td>\n",
       "      <td>...</td>\n",
       "      <td>24</td>\n",
       "      <td>29</td>\n",
       "      <td>30.0</td>\n",
       "      <td>Fair / Windy</td>\n",
       "      <td>17</td>\n",
       "      <td>21</td>\n",
       "      <td>H</td>\n",
       "      <td>598.614318</td>\n",
       "      <td>West</td>\n",
       "      <td>Medium</td>\n",
       "    </tr>\n",
       "    <tr>\n",
       "      <th>2</th>\n",
       "      <td>5</td>\n",
       "      <td>DL</td>\n",
       "      <td>BOS</td>\n",
       "      <td>EARLY</td>\n",
       "      <td>1.366667</td>\n",
       "      <td>300.94658</td>\n",
       "      <td>Morning</td>\n",
       "      <td>Morning</td>\n",
       "      <td>Morning</td>\n",
       "      <td>47</td>\n",
       "      <td>...</td>\n",
       "      <td>24</td>\n",
       "      <td>29</td>\n",
       "      <td>30.0</td>\n",
       "      <td>Fair / Windy</td>\n",
       "      <td>17</td>\n",
       "      <td>21</td>\n",
       "      <td>L</td>\n",
       "      <td>220.204815</td>\n",
       "      <td>North East</td>\n",
       "      <td>Medium</td>\n",
       "    </tr>\n",
       "  </tbody>\n",
       "</table>\n",
       "<p>3 rows × 23 columns</p>\n",
       "</div>"
      ],
      "text/plain": [
       "   DAY_OF_WEEK CARRIER_CODE DEST DEP_DELAY  SCHEDULED_DURATION    DISTANCE  \\\n",
       "0            5           DL  SFO     EARLY            6.516667  4161.75324   \n",
       "1            5           DL  SLC     EARLY            5.350000  3202.58660   \n",
       "2            5           DL  BOS     EARLY            1.366667   300.94658   \n",
       "\n",
       "  SCHEDULED_DEPARTURE ACTUAL_DEPATURE SCHEDULED_ARRIVAL  Temperature  ...  \\\n",
       "0             Morning         Morning           Morning           47  ...   \n",
       "1             Morning         Morning           Morning           47  ...   \n",
       "2             Morning         Morning           Morning           47  ...   \n",
       "\n",
       "   Wind Speed  Wind Gust Pressure     Condition  FLT_SCH_DEPATURE  \\\n",
       "0          24         29     30.0  Fair / Windy                17   \n",
       "1          24         29     30.0  Fair / Windy                17   \n",
       "2          24         29     30.0  Fair / Windy                17   \n",
       "\n",
       "   FLT_SCH_ARRIVAL TAXI_OUT       SPEED      Region FLIGHT_TRAFFIC  \n",
       "0               21        L  638.632211        West         Medium  \n",
       "1               21        H  598.614318        West         Medium  \n",
       "2               21        L  220.204815  North East         Medium  \n",
       "\n",
       "[3 rows x 23 columns]"
      ]
     },
     "execution_count": 3,
     "metadata": {},
     "output_type": "execute_result"
    }
   ],
   "source": [
    "df.head(3)"
   ]
  },
  {
   "cell_type": "markdown",
   "metadata": {},
   "source": [
    "#### NUMERICAL AND CATEGORICAL FEATURES"
   ]
  },
  {
   "cell_type": "code",
   "execution_count": 4,
   "metadata": {},
   "outputs": [
    {
     "name": "stdout",
     "output_type": "stream",
     "text": [
      "numerical :  Index(['DAY_OF_WEEK', 'SCHEDULED_DURATION', 'DISTANCE', 'Temperature',\n",
      "       'Dew Point', 'Humidity', 'Wind Speed', 'Wind Gust', 'Pressure',\n",
      "       'FLT_SCH_DEPATURE', 'FLT_SCH_ARRIVAL', 'SPEED'],\n",
      "      dtype='object')\n"
     ]
    }
   ],
   "source": [
    "df_num = df.select_dtypes(include=np.number)\n",
    "print('numerical : ', df_num.columns)"
   ]
  },
  {
   "cell_type": "markdown",
   "metadata": {},
   "source": [
    "df_cat = df.select_dtypes(include=np.object)\n",
    "print('categorical : ', df_cat.columns)"
   ]
  },
  {
   "cell_type": "markdown",
   "metadata": {},
   "source": [
    "#### HEAT MAP | CORRELLATON"
   ]
  },
  {
   "cell_type": "code",
   "execution_count": 5,
   "metadata": {},
   "outputs": [
    {
     "data": {
      "image/png": "[encoded data removed]",
      "text/plain": [
       "<Figure size 1440x1080 with 2 Axes>"
      ]
     },
     "metadata": {
      "needs_background": "light"
     },
     "output_type": "display_data"
    }
   ],
   "source": [
    "plt.figure(figsize = (20,15))\n",
    "sns.heatmap(df.corr(), annot = True)\n",
    "plt.show()"
   ]
  },
  {
   "cell_type": "markdown",
   "metadata": {},
   "source": [
    "#### MULTICOLLINEARITY "
   ]
  },
  {
   "cell_type": "code",
   "execution_count": 6,
   "metadata": {},
   "outputs": [],
   "source": [
    "from statsmodels.stats.outliers_influence import variance_inflation_factor"
   ]
  },
  {
   "cell_type": "code",
   "execution_count": 7,
   "metadata": {},
   "outputs": [],
   "source": [
    "def calc_vif(X):\n",
    "    vif = pd.DataFrame()\n",
    "    vif[\"Features\"] = X.columns\n",
    "    vif[\"VIF\"] = [variance_inflation_factor(X.values, i) for i in range(X.shape[1])]\n",
    "    vif.sort_values('VIF',ascending = False)\n",
    "    return(vif.sort_values('VIF',ascending = False))"
   ]
  },
  {
   "cell_type": "code",
   "execution_count": 8,
   "metadata": {
    "scrolled": true
   },
   "outputs": [
    {
     "data": {
      "text/html": [
       "<div>\n",
       "<style scoped>\n",
       "    .dataframe tbody tr th:only-of-type {\n",
       "        vertical-align: middle;\n",
       "    }\n",
       "\n",
       "    .dataframe tbody tr th {\n",
       "        vertical-align: top;\n",
       "    }\n",
       "\n",
       "    .dataframe thead th {\n",
       "        text-align: right;\n",
       "    }\n",
       "</style>\n",
       "<table border=\"1\" class=\"dataframe\">\n",
       "  <thead>\n",
       "    <tr style=\"text-align: right;\">\n",
       "      <th></th>\n",
       "      <th>Features</th>\n",
       "      <th>VIF</th>\n",
       "    </tr>\n",
       "  </thead>\n",
       "  <tbody>\n",
       "    <tr>\n",
       "      <th>1</th>\n",
       "      <td>SCHEDULED_DURATION</td>\n",
       "      <td>889.048353</td>\n",
       "    </tr>\n",
       "    <tr>\n",
       "      <th>2</th>\n",
       "      <td>DISTANCE</td>\n",
       "      <td>664.987035</td>\n",
       "    </tr>\n",
       "    <tr>\n",
       "      <th>8</th>\n",
       "      <td>Pressure</td>\n",
       "      <td>194.223457</td>\n",
       "    </tr>\n",
       "    <tr>\n",
       "      <th>11</th>\n",
       "      <td>SPEED</td>\n",
       "      <td>96.208746</td>\n",
       "    </tr>\n",
       "    <tr>\n",
       "      <th>3</th>\n",
       "      <td>Temperature</td>\n",
       "      <td>94.123642</td>\n",
       "    </tr>\n",
       "    <tr>\n",
       "      <th>4</th>\n",
       "      <td>Dew Point</td>\n",
       "      <td>24.660165</td>\n",
       "    </tr>\n",
       "    <tr>\n",
       "      <th>9</th>\n",
       "      <td>FLT_SCH_DEPATURE</td>\n",
       "      <td>19.329379</td>\n",
       "    </tr>\n",
       "    <tr>\n",
       "      <th>10</th>\n",
       "      <td>FLT_SCH_ARRIVAL</td>\n",
       "      <td>17.992058</td>\n",
       "    </tr>\n",
       "    <tr>\n",
       "      <th>6</th>\n",
       "      <td>Wind Speed</td>\n",
       "      <td>10.701396</td>\n",
       "    </tr>\n",
       "    <tr>\n",
       "      <th>5</th>\n",
       "      <td>Humidity</td>\n",
       "      <td>9.615271</td>\n",
       "    </tr>\n",
       "    <tr>\n",
       "      <th>0</th>\n",
       "      <td>DAY_OF_WEEK</td>\n",
       "      <td>5.349001</td>\n",
       "    </tr>\n",
       "    <tr>\n",
       "      <th>7</th>\n",
       "      <td>Wind Gust</td>\n",
       "      <td>1.913666</td>\n",
       "    </tr>\n",
       "  </tbody>\n",
       "</table>\n",
       "</div>"
      ],
      "text/plain": [
       "              Features         VIF\n",
       "1   SCHEDULED_DURATION  889.048353\n",
       "2             DISTANCE  664.987035\n",
       "8             Pressure  194.223457\n",
       "11               SPEED   96.208746\n",
       "3          Temperature   94.123642\n",
       "4            Dew Point   24.660165\n",
       "9     FLT_SCH_DEPATURE   19.329379\n",
       "10     FLT_SCH_ARRIVAL   17.992058\n",
       "6           Wind Speed   10.701396\n",
       "5             Humidity    9.615271\n",
       "0          DAY_OF_WEEK    5.349001\n",
       "7            Wind Gust    1.913666"
      ]
     },
     "execution_count": 8,
     "metadata": {},
     "output_type": "execute_result"
    }
   ],
   "source": [
    "X =df_num\n",
    "calc_vif(X)"
   ]
  },
  {
   "cell_type": "code",
   "execution_count": 9,
   "metadata": {},
   "outputs": [],
   "source": [
    "df = df.drop('SCHEDULED_DURATION',axis = 1)\n",
    "df_num = df.select_dtypes(include=np.number)"
   ]
  },
  {
   "cell_type": "code",
   "execution_count": 10,
   "metadata": {
    "scrolled": true
   },
   "outputs": [
    {
     "data": {
      "text/html": [
       "<div>\n",
       "<style scoped>\n",
       "    .dataframe tbody tr th:only-of-type {\n",
       "        vertical-align: middle;\n",
       "    }\n",
       "\n",
       "    .dataframe tbody tr th {\n",
       "        vertical-align: top;\n",
       "    }\n",
       "\n",
       "    .dataframe thead th {\n",
       "        text-align: right;\n",
       "    }\n",
       "</style>\n",
       "<table border=\"1\" class=\"dataframe\">\n",
       "  <thead>\n",
       "    <tr style=\"text-align: right;\">\n",
       "      <th></th>\n",
       "      <th>Features</th>\n",
       "      <th>VIF</th>\n",
       "    </tr>\n",
       "  </thead>\n",
       "  <tbody>\n",
       "    <tr>\n",
       "      <th>7</th>\n",
       "      <td>Pressure</td>\n",
       "      <td>125.510945</td>\n",
       "    </tr>\n",
       "    <tr>\n",
       "      <th>2</th>\n",
       "      <td>Temperature</td>\n",
       "      <td>93.243738</td>\n",
       "    </tr>\n",
       "    <tr>\n",
       "      <th>10</th>\n",
       "      <td>SPEED</td>\n",
       "      <td>81.426490</td>\n",
       "    </tr>\n",
       "    <tr>\n",
       "      <th>3</th>\n",
       "      <td>Dew Point</td>\n",
       "      <td>24.451795</td>\n",
       "    </tr>\n",
       "    <tr>\n",
       "      <th>8</th>\n",
       "      <td>FLT_SCH_DEPATURE</td>\n",
       "      <td>18.570862</td>\n",
       "    </tr>\n",
       "    <tr>\n",
       "      <th>9</th>\n",
       "      <td>FLT_SCH_ARRIVAL</td>\n",
       "      <td>17.585662</td>\n",
       "    </tr>\n",
       "    <tr>\n",
       "      <th>1</th>\n",
       "      <td>DISTANCE</td>\n",
       "      <td>16.335256</td>\n",
       "    </tr>\n",
       "    <tr>\n",
       "      <th>5</th>\n",
       "      <td>Wind Speed</td>\n",
       "      <td>10.701132</td>\n",
       "    </tr>\n",
       "    <tr>\n",
       "      <th>4</th>\n",
       "      <td>Humidity</td>\n",
       "      <td>9.611563</td>\n",
       "    </tr>\n",
       "    <tr>\n",
       "      <th>0</th>\n",
       "      <td>DAY_OF_WEEK</td>\n",
       "      <td>5.334904</td>\n",
       "    </tr>\n",
       "    <tr>\n",
       "      <th>6</th>\n",
       "      <td>Wind Gust</td>\n",
       "      <td>1.913437</td>\n",
       "    </tr>\n",
       "  </tbody>\n",
       "</table>\n",
       "</div>"
      ],
      "text/plain": [
       "            Features         VIF\n",
       "7           Pressure  125.510945\n",
       "2        Temperature   93.243738\n",
       "10             SPEED   81.426490\n",
       "3          Dew Point   24.451795\n",
       "8   FLT_SCH_DEPATURE   18.570862\n",
       "9    FLT_SCH_ARRIVAL   17.585662\n",
       "1           DISTANCE   16.335256\n",
       "5         Wind Speed   10.701132\n",
       "4           Humidity    9.611563\n",
       "0        DAY_OF_WEEK    5.334904\n",
       "6          Wind Gust    1.913437"
      ]
     },
     "execution_count": 10,
     "metadata": {},
     "output_type": "execute_result"
    }
   ],
   "source": [
    "calc_vif(df_num)"
   ]
  },
  {
   "cell_type": "code",
   "execution_count": 11,
   "metadata": {},
   "outputs": [],
   "source": [
    "df = df.drop('Pressure',axis = 1)\n",
    "df_num = df.select_dtypes(include=np.number)"
   ]
  },
  {
   "cell_type": "code",
   "execution_count": 12,
   "metadata": {
    "scrolled": false
   },
   "outputs": [
    {
     "data": {
      "text/html": [
       "<div>\n",
       "<style scoped>\n",
       "    .dataframe tbody tr th:only-of-type {\n",
       "        vertical-align: middle;\n",
       "    }\n",
       "\n",
       "    .dataframe tbody tr th {\n",
       "        vertical-align: top;\n",
       "    }\n",
       "\n",
       "    .dataframe thead th {\n",
       "        text-align: right;\n",
       "    }\n",
       "</style>\n",
       "<table border=\"1\" class=\"dataframe\">\n",
       "  <thead>\n",
       "    <tr style=\"text-align: right;\">\n",
       "      <th></th>\n",
       "      <th>Features</th>\n",
       "      <th>VIF</th>\n",
       "    </tr>\n",
       "  </thead>\n",
       "  <tbody>\n",
       "    <tr>\n",
       "      <th>2</th>\n",
       "      <td>Temperature</td>\n",
       "      <td>68.605427</td>\n",
       "    </tr>\n",
       "    <tr>\n",
       "      <th>9</th>\n",
       "      <td>SPEED</td>\n",
       "      <td>62.235272</td>\n",
       "    </tr>\n",
       "    <tr>\n",
       "      <th>3</th>\n",
       "      <td>Dew Point</td>\n",
       "      <td>23.414182</td>\n",
       "    </tr>\n",
       "    <tr>\n",
       "      <th>7</th>\n",
       "      <td>FLT_SCH_DEPATURE</td>\n",
       "      <td>16.356256</td>\n",
       "    </tr>\n",
       "    <tr>\n",
       "      <th>8</th>\n",
       "      <td>FLT_SCH_ARRIVAL</td>\n",
       "      <td>15.878513</td>\n",
       "    </tr>\n",
       "    <tr>\n",
       "      <th>1</th>\n",
       "      <td>DISTANCE</td>\n",
       "      <td>13.964969</td>\n",
       "    </tr>\n",
       "    <tr>\n",
       "      <th>5</th>\n",
       "      <td>Wind Speed</td>\n",
       "      <td>10.362107</td>\n",
       "    </tr>\n",
       "    <tr>\n",
       "      <th>4</th>\n",
       "      <td>Humidity</td>\n",
       "      <td>8.920433</td>\n",
       "    </tr>\n",
       "    <tr>\n",
       "      <th>0</th>\n",
       "      <td>DAY_OF_WEEK</td>\n",
       "      <td>5.275752</td>\n",
       "    </tr>\n",
       "    <tr>\n",
       "      <th>6</th>\n",
       "      <td>Wind Gust</td>\n",
       "      <td>1.902465</td>\n",
       "    </tr>\n",
       "  </tbody>\n",
       "</table>\n",
       "</div>"
      ],
      "text/plain": [
       "           Features        VIF\n",
       "2       Temperature  68.605427\n",
       "9             SPEED  62.235272\n",
       "3         Dew Point  23.414182\n",
       "7  FLT_SCH_DEPATURE  16.356256\n",
       "8   FLT_SCH_ARRIVAL  15.878513\n",
       "1          DISTANCE  13.964969\n",
       "5        Wind Speed  10.362107\n",
       "4          Humidity   8.920433\n",
       "0       DAY_OF_WEEK   5.275752\n",
       "6         Wind Gust   1.902465"
      ]
     },
     "execution_count": 12,
     "metadata": {},
     "output_type": "execute_result"
    }
   ],
   "source": [
    "calc_vif(df_num)"
   ]
  },
  {
   "cell_type": "code",
   "execution_count": 13,
   "metadata": {},
   "outputs": [],
   "source": [
    "df = df.drop('Temperature',axis = 1)\n",
    "df_num = df.select_dtypes(include=np.number)"
   ]
  },
  {
   "cell_type": "code",
   "execution_count": 14,
   "metadata": {},
   "outputs": [
    {
     "data": {
      "text/html": [
       "<div>\n",
       "<style scoped>\n",
       "    .dataframe tbody tr th:only-of-type {\n",
       "        vertical-align: middle;\n",
       "    }\n",
       "\n",
       "    .dataframe tbody tr th {\n",
       "        vertical-align: top;\n",
       "    }\n",
       "\n",
       "    .dataframe thead th {\n",
       "        text-align: right;\n",
       "    }\n",
       "</style>\n",
       "<table border=\"1\" class=\"dataframe\">\n",
       "  <thead>\n",
       "    <tr style=\"text-align: right;\">\n",
       "      <th></th>\n",
       "      <th>Features</th>\n",
       "      <th>VIF</th>\n",
       "    </tr>\n",
       "  </thead>\n",
       "  <tbody>\n",
       "    <tr>\n",
       "      <th>8</th>\n",
       "      <td>SPEED</td>\n",
       "      <td>53.161765</td>\n",
       "    </tr>\n",
       "    <tr>\n",
       "      <th>6</th>\n",
       "      <td>FLT_SCH_DEPATURE</td>\n",
       "      <td>16.189854</td>\n",
       "    </tr>\n",
       "    <tr>\n",
       "      <th>7</th>\n",
       "      <td>FLT_SCH_ARRIVAL</td>\n",
       "      <td>14.640652</td>\n",
       "    </tr>\n",
       "    <tr>\n",
       "      <th>1</th>\n",
       "      <td>DISTANCE</td>\n",
       "      <td>12.755748</td>\n",
       "    </tr>\n",
       "    <tr>\n",
       "      <th>2</th>\n",
       "      <td>Dew Point</td>\n",
       "      <td>10.947849</td>\n",
       "    </tr>\n",
       "    <tr>\n",
       "      <th>4</th>\n",
       "      <td>Wind Speed</td>\n",
       "      <td>9.460866</td>\n",
       "    </tr>\n",
       "    <tr>\n",
       "      <th>3</th>\n",
       "      <td>Humidity</td>\n",
       "      <td>8.920325</td>\n",
       "    </tr>\n",
       "    <tr>\n",
       "      <th>0</th>\n",
       "      <td>DAY_OF_WEEK</td>\n",
       "      <td>5.017057</td>\n",
       "    </tr>\n",
       "    <tr>\n",
       "      <th>5</th>\n",
       "      <td>Wind Gust</td>\n",
       "      <td>1.885518</td>\n",
       "    </tr>\n",
       "  </tbody>\n",
       "</table>\n",
       "</div>"
      ],
      "text/plain": [
       "           Features        VIF\n",
       "8             SPEED  53.161765\n",
       "6  FLT_SCH_DEPATURE  16.189854\n",
       "7   FLT_SCH_ARRIVAL  14.640652\n",
       "1          DISTANCE  12.755748\n",
       "2         Dew Point  10.947849\n",
       "4        Wind Speed   9.460866\n",
       "3          Humidity   8.920325\n",
       "0       DAY_OF_WEEK   5.017057\n",
       "5         Wind Gust   1.885518"
      ]
     },
     "execution_count": 14,
     "metadata": {},
     "output_type": "execute_result"
    }
   ],
   "source": [
    "calc_vif(df_num)"
   ]
  },
  {
   "cell_type": "code",
   "execution_count": 15,
   "metadata": {},
   "outputs": [],
   "source": [
    "df = df.drop('SPEED',axis = 1)\n",
    "df_num = df.select_dtypes(include=np.number)"
   ]
  },
  {
   "cell_type": "code",
   "execution_count": 16,
   "metadata": {
    "scrolled": false
   },
   "outputs": [
    {
     "data": {
      "text/html": [
       "<div>\n",
       "<style scoped>\n",
       "    .dataframe tbody tr th:only-of-type {\n",
       "        vertical-align: middle;\n",
       "    }\n",
       "\n",
       "    .dataframe tbody tr th {\n",
       "        vertical-align: top;\n",
       "    }\n",
       "\n",
       "    .dataframe thead th {\n",
       "        text-align: right;\n",
       "    }\n",
       "</style>\n",
       "<table border=\"1\" class=\"dataframe\">\n",
       "  <thead>\n",
       "    <tr style=\"text-align: right;\">\n",
       "      <th></th>\n",
       "      <th>Features</th>\n",
       "      <th>VIF</th>\n",
       "    </tr>\n",
       "  </thead>\n",
       "  <tbody>\n",
       "    <tr>\n",
       "      <th>6</th>\n",
       "      <td>FLT_SCH_DEPATURE</td>\n",
       "      <td>15.146604</td>\n",
       "    </tr>\n",
       "    <tr>\n",
       "      <th>7</th>\n",
       "      <td>FLT_SCH_ARRIVAL</td>\n",
       "      <td>13.233854</td>\n",
       "    </tr>\n",
       "    <tr>\n",
       "      <th>2</th>\n",
       "      <td>Dew Point</td>\n",
       "      <td>10.330130</td>\n",
       "    </tr>\n",
       "    <tr>\n",
       "      <th>4</th>\n",
       "      <td>Wind Speed</td>\n",
       "      <td>8.768272</td>\n",
       "    </tr>\n",
       "    <tr>\n",
       "      <th>3</th>\n",
       "      <td>Humidity</td>\n",
       "      <td>8.700030</td>\n",
       "    </tr>\n",
       "    <tr>\n",
       "      <th>0</th>\n",
       "      <td>DAY_OF_WEEK</td>\n",
       "      <td>4.865049</td>\n",
       "    </tr>\n",
       "    <tr>\n",
       "      <th>1</th>\n",
       "      <td>DISTANCE</td>\n",
       "      <td>3.107076</td>\n",
       "    </tr>\n",
       "    <tr>\n",
       "      <th>5</th>\n",
       "      <td>Wind Gust</td>\n",
       "      <td>1.874208</td>\n",
       "    </tr>\n",
       "  </tbody>\n",
       "</table>\n",
       "</div>"
      ],
      "text/plain": [
       "           Features        VIF\n",
       "6  FLT_SCH_DEPATURE  15.146604\n",
       "7   FLT_SCH_ARRIVAL  13.233854\n",
       "2         Dew Point  10.330130\n",
       "4        Wind Speed   8.768272\n",
       "3          Humidity   8.700030\n",
       "0       DAY_OF_WEEK   4.865049\n",
       "1          DISTANCE   3.107076\n",
       "5         Wind Gust   1.874208"
      ]
     },
     "execution_count": 16,
     "metadata": {},
     "output_type": "execute_result"
    }
   ],
   "source": [
    "calc_vif(df_num)"
   ]
  },
  {
   "cell_type": "code",
   "execution_count": 17,
   "metadata": {},
   "outputs": [],
   "source": [
    "df = df.drop('FLT_SCH_DEPATURE',axis = 1)\n",
    "df_num = df.select_dtypes(include=np.number)"
   ]
  },
  {
   "cell_type": "code",
   "execution_count": 18,
   "metadata": {
    "scrolled": false
   },
   "outputs": [
    {
     "data": {
      "text/html": [
       "<div>\n",
       "<style scoped>\n",
       "    .dataframe tbody tr th:only-of-type {\n",
       "        vertical-align: middle;\n",
       "    }\n",
       "\n",
       "    .dataframe tbody tr th {\n",
       "        vertical-align: top;\n",
       "    }\n",
       "\n",
       "    .dataframe thead th {\n",
       "        text-align: right;\n",
       "    }\n",
       "</style>\n",
       "<table border=\"1\" class=\"dataframe\">\n",
       "  <thead>\n",
       "    <tr style=\"text-align: right;\">\n",
       "      <th></th>\n",
       "      <th>Features</th>\n",
       "      <th>VIF</th>\n",
       "    </tr>\n",
       "  </thead>\n",
       "  <tbody>\n",
       "    <tr>\n",
       "      <th>6</th>\n",
       "      <td>FLT_SCH_ARRIVAL</td>\n",
       "      <td>11.308004</td>\n",
       "    </tr>\n",
       "    <tr>\n",
       "      <th>2</th>\n",
       "      <td>Dew Point</td>\n",
       "      <td>9.825869</td>\n",
       "    </tr>\n",
       "    <tr>\n",
       "      <th>4</th>\n",
       "      <td>Wind Speed</td>\n",
       "      <td>8.384294</td>\n",
       "    </tr>\n",
       "    <tr>\n",
       "      <th>3</th>\n",
       "      <td>Humidity</td>\n",
       "      <td>8.294777</td>\n",
       "    </tr>\n",
       "    <tr>\n",
       "      <th>0</th>\n",
       "      <td>DAY_OF_WEEK</td>\n",
       "      <td>4.728170</td>\n",
       "    </tr>\n",
       "    <tr>\n",
       "      <th>1</th>\n",
       "      <td>DISTANCE</td>\n",
       "      <td>3.041502</td>\n",
       "    </tr>\n",
       "    <tr>\n",
       "      <th>5</th>\n",
       "      <td>Wind Gust</td>\n",
       "      <td>1.872685</td>\n",
       "    </tr>\n",
       "  </tbody>\n",
       "</table>\n",
       "</div>"
      ],
      "text/plain": [
       "          Features        VIF\n",
       "6  FLT_SCH_ARRIVAL  11.308004\n",
       "2        Dew Point   9.825869\n",
       "4       Wind Speed   8.384294\n",
       "3         Humidity   8.294777\n",
       "0      DAY_OF_WEEK   4.728170\n",
       "1         DISTANCE   3.041502\n",
       "5        Wind Gust   1.872685"
      ]
     },
     "execution_count": 18,
     "metadata": {},
     "output_type": "execute_result"
    }
   ],
   "source": [
    "calc_vif(df_num)"
   ]
  },
  {
   "cell_type": "code",
   "execution_count": 19,
   "metadata": {},
   "outputs": [],
   "source": [
    "df = df.drop('FLT_SCH_ARRIVAL',axis = 1)\n",
    "df_num = df.select_dtypes(include=np.number)"
   ]
  },
  {
   "cell_type": "code",
   "execution_count": 20,
   "metadata": {},
   "outputs": [
    {
     "data": {
      "text/html": [
       "<div>\n",
       "<style scoped>\n",
       "    .dataframe tbody tr th:only-of-type {\n",
       "        vertical-align: middle;\n",
       "    }\n",
       "\n",
       "    .dataframe tbody tr th {\n",
       "        vertical-align: top;\n",
       "    }\n",
       "\n",
       "    .dataframe thead th {\n",
       "        text-align: right;\n",
       "    }\n",
       "</style>\n",
       "<table border=\"1\" class=\"dataframe\">\n",
       "  <thead>\n",
       "    <tr style=\"text-align: right;\">\n",
       "      <th></th>\n",
       "      <th>Features</th>\n",
       "      <th>VIF</th>\n",
       "    </tr>\n",
       "  </thead>\n",
       "  <tbody>\n",
       "    <tr>\n",
       "      <th>2</th>\n",
       "      <td>Dew Point</td>\n",
       "      <td>8.206826</td>\n",
       "    </tr>\n",
       "    <tr>\n",
       "      <th>3</th>\n",
       "      <td>Humidity</td>\n",
       "      <td>7.970327</td>\n",
       "    </tr>\n",
       "    <tr>\n",
       "      <th>4</th>\n",
       "      <td>Wind Speed</td>\n",
       "      <td>7.681992</td>\n",
       "    </tr>\n",
       "    <tr>\n",
       "      <th>0</th>\n",
       "      <td>DAY_OF_WEEK</td>\n",
       "      <td>4.406451</td>\n",
       "    </tr>\n",
       "    <tr>\n",
       "      <th>1</th>\n",
       "      <td>DISTANCE</td>\n",
       "      <td>3.002040</td>\n",
       "    </tr>\n",
       "    <tr>\n",
       "      <th>5</th>\n",
       "      <td>Wind Gust</td>\n",
       "      <td>1.864799</td>\n",
       "    </tr>\n",
       "  </tbody>\n",
       "</table>\n",
       "</div>"
      ],
      "text/plain": [
       "      Features       VIF\n",
       "2    Dew Point  8.206826\n",
       "3     Humidity  7.970327\n",
       "4   Wind Speed  7.681992\n",
       "0  DAY_OF_WEEK  4.406451\n",
       "1     DISTANCE  3.002040\n",
       "5    Wind Gust  1.864799"
      ]
     },
     "execution_count": 20,
     "metadata": {},
     "output_type": "execute_result"
    }
   ],
   "source": [
    "calc_vif(df_num)"
   ]
  },
  {
   "cell_type": "markdown",
   "metadata": {},
   "source": [
    "##### Columns"
   ]
  },
  {
   "cell_type": "code",
   "execution_count": 21,
   "metadata": {},
   "outputs": [
    {
     "data": {
      "text/plain": [
       "Index(['DAY_OF_WEEK', 'CARRIER_CODE', 'DEST', 'DEP_DELAY', 'DISTANCE',\n",
       "       'SCHEDULED_DEPARTURE', 'ACTUAL_DEPATURE', 'SCHEDULED_ARRIVAL',\n",
       "       'Dew Point', 'Humidity', 'Wind', 'Wind Speed', 'Wind Gust', 'Condition',\n",
       "       'TAXI_OUT', 'Region', 'FLIGHT_TRAFFIC'],\n",
       "      dtype='object')"
      ]
     },
     "execution_count": 21,
     "metadata": {},
     "output_type": "execute_result"
    }
   ],
   "source": [
    "df.columns"
   ]
  },
  {
   "cell_type": "markdown",
   "metadata": {},
   "source": [
    "#### Categorical and numerical columns:"
   ]
  },
  {
   "cell_type": "code",
   "execution_count": 22,
   "metadata": {},
   "outputs": [
    {
     "data": {
      "text/plain": [
       "Index(['DAY_OF_WEEK', 'DISTANCE', 'Dew Point', 'Humidity', 'Wind Speed',\n",
       "       'Wind Gust'],\n",
       "      dtype='object')"
      ]
     },
     "execution_count": 22,
     "metadata": {},
     "output_type": "execute_result"
    }
   ],
   "source": [
    "num = df.select_dtypes(exclude = 'object')\n",
    "num.columns"
   ]
  },
  {
   "cell_type": "code",
   "execution_count": 23,
   "metadata": {},
   "outputs": [
    {
     "data": {
      "text/plain": [
       "Index(['CARRIER_CODE', 'DEST', 'DEP_DELAY', 'SCHEDULED_DEPARTURE',\n",
       "       'ACTUAL_DEPATURE', 'SCHEDULED_ARRIVAL', 'Wind', 'Condition', 'TAXI_OUT',\n",
       "       'Region', 'FLIGHT_TRAFFIC'],\n",
       "      dtype='object')"
      ]
     },
     "execution_count": 23,
     "metadata": {},
     "output_type": "execute_result"
    }
   ],
   "source": [
    "cat = df.select_dtypes(include = 'object')\n",
    "cat.columns"
   ]
  },
  {
   "cell_type": "markdown",
   "metadata": {},
   "source": [
    "#### Label Encoding | Target Variable"
   ]
  },
  {
   "cell_type": "code",
   "execution_count": 24,
   "metadata": {},
   "outputs": [],
   "source": [
    "from sklearn.preprocessing import LabelEncoder\n",
    "LE = LabelEncoder()"
   ]
  },
  {
   "cell_type": "code",
   "execution_count": 25,
   "metadata": {},
   "outputs": [],
   "source": [
    "cat['TAXI_OUT'] =LE.fit_transform(cat['TAXI_OUT'])\n",
    "y = cat['TAXI_OUT']\n",
    "cat = cat.drop('TAXI_OUT',axis=1)"
   ]
  },
  {
   "cell_type": "code",
   "execution_count": 26,
   "metadata": {
    "scrolled": true
   },
   "outputs": [
    {
     "data": {
      "text/plain": [
       "array([1, 0])"
      ]
     },
     "execution_count": 26,
     "metadata": {},
     "output_type": "execute_result"
    }
   ],
   "source": [
    "y.unique()"
   ]
  },
  {
   "cell_type": "markdown",
   "metadata": {},
   "source": [
    "#### One Hot Encoding"
   ]
  },
  {
   "cell_type": "code",
   "execution_count": 27,
   "metadata": {},
   "outputs": [
    {
     "name": "stdout",
     "output_type": "stream",
     "text": [
      "['DEP_DELAY', 'SCHEDULED_DEPARTURE', 'ACTUAL_DEPATURE', 'SCHEDULED_ARRIVAL', 'Wind', 'Region', 'FLIGHT_TRAFFIC']\n"
     ]
    }
   ],
   "source": [
    "cat_OHE=[]\n",
    "for i in cat.columns:\n",
    "    if cat[i].nunique() >5:\n",
    "        cat[i]=LE.fit_transform(cat[i])\n",
    "    else:\n",
    "        cat_OHE.append(i)\n",
    "print(cat_OHE)"
   ]
  },
  {
   "cell_type": "code",
   "execution_count": 28,
   "metadata": {},
   "outputs": [],
   "source": [
    "cat=pd.get_dummies(data=cat,columns=cat_OHE,drop_first=True)"
   ]
  },
  {
   "cell_type": "code",
   "execution_count": 29,
   "metadata": {},
   "outputs": [
    {
     "data": {
      "text/html": [
       "<div>\n",
       "<style scoped>\n",
       "    .dataframe tbody tr th:only-of-type {\n",
       "        vertical-align: middle;\n",
       "    }\n",
       "\n",
       "    .dataframe tbody tr th {\n",
       "        vertical-align: top;\n",
       "    }\n",
       "\n",
       "    .dataframe thead th {\n",
       "        text-align: right;\n",
       "    }\n",
       "</style>\n",
       "<table border=\"1\" class=\"dataframe\">\n",
       "  <thead>\n",
       "    <tr style=\"text-align: right;\">\n",
       "      <th></th>\n",
       "      <th>CARRIER_CODE</th>\n",
       "      <th>DEST</th>\n",
       "      <th>Condition</th>\n",
       "      <th>DEP_DELAY_EARLY</th>\n",
       "      <th>DEP_DELAY_ONTIME</th>\n",
       "      <th>SCHEDULED_DEPARTURE_Morning</th>\n",
       "      <th>SCHEDULED_DEPARTURE_Night</th>\n",
       "      <th>SCHEDULED_DEPARTURE_Noon</th>\n",
       "      <th>ACTUAL_DEPATURE_Morning</th>\n",
       "      <th>ACTUAL_DEPATURE_Night</th>\n",
       "      <th>...</th>\n",
       "      <th>SCHEDULED_ARRIVAL_Night</th>\n",
       "      <th>SCHEDULED_ARRIVAL_Noon</th>\n",
       "      <th>Wind_N</th>\n",
       "      <th>Wind_S</th>\n",
       "      <th>Wind_V</th>\n",
       "      <th>Wind_W</th>\n",
       "      <th>Region_North East</th>\n",
       "      <th>Region_South</th>\n",
       "      <th>Region_West</th>\n",
       "      <th>FLIGHT_TRAFFIC_Medium</th>\n",
       "    </tr>\n",
       "  </thead>\n",
       "  <tbody>\n",
       "    <tr>\n",
       "      <th>0</th>\n",
       "      <td>4</td>\n",
       "      <td>50</td>\n",
       "      <td>3</td>\n",
       "      <td>1</td>\n",
       "      <td>0</td>\n",
       "      <td>1</td>\n",
       "      <td>0</td>\n",
       "      <td>0</td>\n",
       "      <td>1</td>\n",
       "      <td>0</td>\n",
       "      <td>...</td>\n",
       "      <td>0</td>\n",
       "      <td>0</td>\n",
       "      <td>0</td>\n",
       "      <td>0</td>\n",
       "      <td>0</td>\n",
       "      <td>1</td>\n",
       "      <td>0</td>\n",
       "      <td>0</td>\n",
       "      <td>1</td>\n",
       "      <td>1</td>\n",
       "    </tr>\n",
       "    <tr>\n",
       "      <th>1</th>\n",
       "      <td>4</td>\n",
       "      <td>52</td>\n",
       "      <td>3</td>\n",
       "      <td>1</td>\n",
       "      <td>0</td>\n",
       "      <td>1</td>\n",
       "      <td>0</td>\n",
       "      <td>0</td>\n",
       "      <td>1</td>\n",
       "      <td>0</td>\n",
       "      <td>...</td>\n",
       "      <td>0</td>\n",
       "      <td>0</td>\n",
       "      <td>0</td>\n",
       "      <td>0</td>\n",
       "      <td>0</td>\n",
       "      <td>1</td>\n",
       "      <td>0</td>\n",
       "      <td>0</td>\n",
       "      <td>1</td>\n",
       "      <td>1</td>\n",
       "    </tr>\n",
       "    <tr>\n",
       "      <th>2</th>\n",
       "      <td>4</td>\n",
       "      <td>4</td>\n",
       "      <td>3</td>\n",
       "      <td>1</td>\n",
       "      <td>0</td>\n",
       "      <td>1</td>\n",
       "      <td>0</td>\n",
       "      <td>0</td>\n",
       "      <td>1</td>\n",
       "      <td>0</td>\n",
       "      <td>...</td>\n",
       "      <td>0</td>\n",
       "      <td>0</td>\n",
       "      <td>0</td>\n",
       "      <td>0</td>\n",
       "      <td>0</td>\n",
       "      <td>1</td>\n",
       "      <td>1</td>\n",
       "      <td>0</td>\n",
       "      <td>0</td>\n",
       "      <td>1</td>\n",
       "    </tr>\n",
       "  </tbody>\n",
       "</table>\n",
       "<p>3 rows × 23 columns</p>\n",
       "</div>"
      ],
      "text/plain": [
       "   CARRIER_CODE  DEST  Condition  DEP_DELAY_EARLY  DEP_DELAY_ONTIME  \\\n",
       "0             4    50          3                1                 0   \n",
       "1             4    52          3                1                 0   \n",
       "2             4     4          3                1                 0   \n",
       "\n",
       "   SCHEDULED_DEPARTURE_Morning  SCHEDULED_DEPARTURE_Night  \\\n",
       "0                            1                          0   \n",
       "1                            1                          0   \n",
       "2                            1                          0   \n",
       "\n",
       "   SCHEDULED_DEPARTURE_Noon  ACTUAL_DEPATURE_Morning  ACTUAL_DEPATURE_Night  \\\n",
       "0                         0                        1                      0   \n",
       "1                         0                        1                      0   \n",
       "2                         0                        1                      0   \n",
       "\n",
       "   ...  SCHEDULED_ARRIVAL_Night  SCHEDULED_ARRIVAL_Noon  Wind_N  Wind_S  \\\n",
       "0  ...                        0                       0       0       0   \n",
       "1  ...                        0                       0       0       0   \n",
       "2  ...                        0                       0       0       0   \n",
       "\n",
       "   Wind_V  Wind_W  Region_North East  Region_South  Region_West  \\\n",
       "0       0       1                  0             0            1   \n",
       "1       0       1                  0             0            1   \n",
       "2       0       1                  1             0            0   \n",
       "\n",
       "   FLIGHT_TRAFFIC_Medium  \n",
       "0                      1  \n",
       "1                      1  \n",
       "2                      1  \n",
       "\n",
       "[3 rows x 23 columns]"
      ]
     },
     "execution_count": 29,
     "metadata": {},
     "output_type": "execute_result"
    }
   ],
   "source": [
    "cat.head(3)"
   ]
  },
  {
   "cell_type": "markdown",
   "metadata": {},
   "source": [
    "#### SCALING"
   ]
  },
  {
   "cell_type": "code",
   "execution_count": 30,
   "metadata": {},
   "outputs": [],
   "source": [
    "from sklearn.preprocessing import StandardScaler"
   ]
  },
  {
   "cell_type": "code",
   "execution_count": 31,
   "metadata": {
    "scrolled": true
   },
   "outputs": [
    {
     "data": {
      "text/html": [
       "<div>\n",
       "<style scoped>\n",
       "    .dataframe tbody tr th:only-of-type {\n",
       "        vertical-align: middle;\n",
       "    }\n",
       "\n",
       "    .dataframe tbody tr th {\n",
       "        vertical-align: top;\n",
       "    }\n",
       "\n",
       "    .dataframe thead th {\n",
       "        text-align: right;\n",
       "    }\n",
       "</style>\n",
       "<table border=\"1\" class=\"dataframe\">\n",
       "  <thead>\n",
       "    <tr style=\"text-align: right;\">\n",
       "      <th></th>\n",
       "      <th>DAY_OF_WEEK</th>\n",
       "      <th>DISTANCE</th>\n",
       "      <th>Dew Point</th>\n",
       "      <th>Humidity</th>\n",
       "      <th>Wind Speed</th>\n",
       "      <th>Wind Gust</th>\n",
       "    </tr>\n",
       "  </thead>\n",
       "  <tbody>\n",
       "    <tr>\n",
       "      <th>0</th>\n",
       "      <td>5</td>\n",
       "      <td>4161.75324</td>\n",
       "      <td>0.308625</td>\n",
       "      <td>0.042098</td>\n",
       "      <td>2.399839</td>\n",
       "      <td>29</td>\n",
       "    </tr>\n",
       "    <tr>\n",
       "      <th>1</th>\n",
       "      <td>5</td>\n",
       "      <td>3202.58660</td>\n",
       "      <td>0.308625</td>\n",
       "      <td>0.042098</td>\n",
       "      <td>2.399839</td>\n",
       "      <td>29</td>\n",
       "    </tr>\n",
       "    <tr>\n",
       "      <th>2</th>\n",
       "      <td>5</td>\n",
       "      <td>300.94658</td>\n",
       "      <td>0.308625</td>\n",
       "      <td>0.042098</td>\n",
       "      <td>2.399839</td>\n",
       "      <td>29</td>\n",
       "    </tr>\n",
       "  </tbody>\n",
       "</table>\n",
       "</div>"
      ],
      "text/plain": [
       "   DAY_OF_WEEK    DISTANCE  Dew Point  Humidity  Wind Speed  Wind Gust\n",
       "0            5  4161.75324   0.308625  0.042098    2.399839         29\n",
       "1            5  3202.58660   0.308625  0.042098    2.399839         29\n",
       "2            5   300.94658   0.308625  0.042098    2.399839         29"
      ]
     },
     "execution_count": 31,
     "metadata": {},
     "output_type": "execute_result"
    }
   ],
   "source": [
    "ss = StandardScaler()\n",
    "num[['Dew Point','Humidity','Wind Speed']]=ss.fit_transform(num[['Dew Point','Humidity','Wind Speed']])\n",
    "num_scaled = num\n",
    "num_scaled.head(3)"
   ]
  },
  {
   "cell_type": "markdown",
   "metadata": {},
   "source": [
    "#### INDEPENDENT AND DEPENDENT VARIABLE"
   ]
  },
  {
   "cell_type": "code",
   "execution_count": 32,
   "metadata": {},
   "outputs": [],
   "source": [
    "x=pd.concat([num_scaled,cat],axis=1)"
   ]
  },
  {
   "cell_type": "code",
   "execution_count": 33,
   "metadata": {
    "scrolled": true
   },
   "outputs": [
    {
     "data": {
      "text/html": [
       "<div>\n",
       "<style scoped>\n",
       "    .dataframe tbody tr th:only-of-type {\n",
       "        vertical-align: middle;\n",
       "    }\n",
       "\n",
       "    .dataframe tbody tr th {\n",
       "        vertical-align: top;\n",
       "    }\n",
       "\n",
       "    .dataframe thead th {\n",
       "        text-align: right;\n",
       "    }\n",
       "</style>\n",
       "<table border=\"1\" class=\"dataframe\">\n",
       "  <thead>\n",
       "    <tr style=\"text-align: right;\">\n",
       "      <th></th>\n",
       "      <th>DAY_OF_WEEK</th>\n",
       "      <th>DISTANCE</th>\n",
       "      <th>Dew Point</th>\n",
       "      <th>Humidity</th>\n",
       "      <th>Wind Speed</th>\n",
       "      <th>Wind Gust</th>\n",
       "      <th>CARRIER_CODE</th>\n",
       "      <th>DEST</th>\n",
       "      <th>Condition</th>\n",
       "      <th>DEP_DELAY_EARLY</th>\n",
       "      <th>...</th>\n",
       "      <th>SCHEDULED_ARRIVAL_Night</th>\n",
       "      <th>SCHEDULED_ARRIVAL_Noon</th>\n",
       "      <th>Wind_N</th>\n",
       "      <th>Wind_S</th>\n",
       "      <th>Wind_V</th>\n",
       "      <th>Wind_W</th>\n",
       "      <th>Region_North East</th>\n",
       "      <th>Region_South</th>\n",
       "      <th>Region_West</th>\n",
       "      <th>FLIGHT_TRAFFIC_Medium</th>\n",
       "    </tr>\n",
       "  </thead>\n",
       "  <tbody>\n",
       "    <tr>\n",
       "      <th>0</th>\n",
       "      <td>5</td>\n",
       "      <td>4161.75324</td>\n",
       "      <td>0.308625</td>\n",
       "      <td>0.042098</td>\n",
       "      <td>2.399839</td>\n",
       "      <td>29</td>\n",
       "      <td>4</td>\n",
       "      <td>50</td>\n",
       "      <td>3</td>\n",
       "      <td>1</td>\n",
       "      <td>...</td>\n",
       "      <td>0</td>\n",
       "      <td>0</td>\n",
       "      <td>0</td>\n",
       "      <td>0</td>\n",
       "      <td>0</td>\n",
       "      <td>1</td>\n",
       "      <td>0</td>\n",
       "      <td>0</td>\n",
       "      <td>1</td>\n",
       "      <td>1</td>\n",
       "    </tr>\n",
       "    <tr>\n",
       "      <th>1</th>\n",
       "      <td>5</td>\n",
       "      <td>3202.58660</td>\n",
       "      <td>0.308625</td>\n",
       "      <td>0.042098</td>\n",
       "      <td>2.399839</td>\n",
       "      <td>29</td>\n",
       "      <td>4</td>\n",
       "      <td>52</td>\n",
       "      <td>3</td>\n",
       "      <td>1</td>\n",
       "      <td>...</td>\n",
       "      <td>0</td>\n",
       "      <td>0</td>\n",
       "      <td>0</td>\n",
       "      <td>0</td>\n",
       "      <td>0</td>\n",
       "      <td>1</td>\n",
       "      <td>0</td>\n",
       "      <td>0</td>\n",
       "      <td>1</td>\n",
       "      <td>1</td>\n",
       "    </tr>\n",
       "    <tr>\n",
       "      <th>2</th>\n",
       "      <td>5</td>\n",
       "      <td>300.94658</td>\n",
       "      <td>0.308625</td>\n",
       "      <td>0.042098</td>\n",
       "      <td>2.399839</td>\n",
       "      <td>29</td>\n",
       "      <td>4</td>\n",
       "      <td>4</td>\n",
       "      <td>3</td>\n",
       "      <td>1</td>\n",
       "      <td>...</td>\n",
       "      <td>0</td>\n",
       "      <td>0</td>\n",
       "      <td>0</td>\n",
       "      <td>0</td>\n",
       "      <td>0</td>\n",
       "      <td>1</td>\n",
       "      <td>1</td>\n",
       "      <td>0</td>\n",
       "      <td>0</td>\n",
       "      <td>1</td>\n",
       "    </tr>\n",
       "    <tr>\n",
       "      <th>3</th>\n",
       "      <td>5</td>\n",
       "      <td>1155.50612</td>\n",
       "      <td>0.308625</td>\n",
       "      <td>0.042098</td>\n",
       "      <td>2.399839</td>\n",
       "      <td>29</td>\n",
       "      <td>3</td>\n",
       "      <td>48</td>\n",
       "      <td>3</td>\n",
       "      <td>1</td>\n",
       "      <td>...</td>\n",
       "      <td>0</td>\n",
       "      <td>0</td>\n",
       "      <td>0</td>\n",
       "      <td>0</td>\n",
       "      <td>0</td>\n",
       "      <td>1</td>\n",
       "      <td>0</td>\n",
       "      <td>1</td>\n",
       "      <td>0</td>\n",
       "      <td>1</td>\n",
       "    </tr>\n",
       "    <tr>\n",
       "      <th>4</th>\n",
       "      <td>5</td>\n",
       "      <td>1223.09840</td>\n",
       "      <td>0.308625</td>\n",
       "      <td>0.042098</td>\n",
       "      <td>2.399839</td>\n",
       "      <td>29</td>\n",
       "      <td>3</td>\n",
       "      <td>1</td>\n",
       "      <td>3</td>\n",
       "      <td>0</td>\n",
       "      <td>...</td>\n",
       "      <td>0</td>\n",
       "      <td>0</td>\n",
       "      <td>0</td>\n",
       "      <td>0</td>\n",
       "      <td>0</td>\n",
       "      <td>1</td>\n",
       "      <td>0</td>\n",
       "      <td>1</td>\n",
       "      <td>0</td>\n",
       "      <td>1</td>\n",
       "    </tr>\n",
       "  </tbody>\n",
       "</table>\n",
       "<p>5 rows × 29 columns</p>\n",
       "</div>"
      ],
      "text/plain": [
       "   DAY_OF_WEEK    DISTANCE  Dew Point  Humidity  Wind Speed  Wind Gust  \\\n",
       "0            5  4161.75324   0.308625  0.042098    2.399839         29   \n",
       "1            5  3202.58660   0.308625  0.042098    2.399839         29   \n",
       "2            5   300.94658   0.308625  0.042098    2.399839         29   \n",
       "3            5  1155.50612   0.308625  0.042098    2.399839         29   \n",
       "4            5  1223.09840   0.308625  0.042098    2.399839         29   \n",
       "\n",
       "   CARRIER_CODE  DEST  Condition  DEP_DELAY_EARLY  ...  \\\n",
       "0             4    50          3                1  ...   \n",
       "1             4    52          3                1  ...   \n",
       "2             4     4          3                1  ...   \n",
       "3             3    48          3                1  ...   \n",
       "4             3     1          3                0  ...   \n",
       "\n",
       "   SCHEDULED_ARRIVAL_Night  SCHEDULED_ARRIVAL_Noon  Wind_N  Wind_S  Wind_V  \\\n",
       "0                        0                       0       0       0       0   \n",
       "1                        0                       0       0       0       0   \n",
       "2                        0                       0       0       0       0   \n",
       "3                        0                       0       0       0       0   \n",
       "4                        0                       0       0       0       0   \n",
       "\n",
       "   Wind_W  Region_North East  Region_South  Region_West  FLIGHT_TRAFFIC_Medium  \n",
       "0       1                  0             0            1                      1  \n",
       "1       1                  0             0            1                      1  \n",
       "2       1                  1             0            0                      1  \n",
       "3       1                  0             1            0                      1  \n",
       "4       1                  0             1            0                      1  \n",
       "\n",
       "[5 rows x 29 columns]"
      ]
     },
     "execution_count": 33,
     "metadata": {},
     "output_type": "execute_result"
    }
   ],
   "source": [
    "x.head()"
   ]
  },
  {
   "cell_type": "code",
   "execution_count": 34,
   "metadata": {},
   "outputs": [
    {
     "data": {
      "text/plain": [
       "1    10563\n",
       "0     4944\n",
       "Name: TAXI_OUT, dtype: int64"
      ]
     },
     "execution_count": 34,
     "metadata": {},
     "output_type": "execute_result"
    }
   ],
   "source": [
    "y.value_counts()"
   ]
  },
  {
   "cell_type": "markdown",
   "metadata": {},
   "source": [
    "### TRAIN TEST SPLIT"
   ]
  },
  {
   "cell_type": "code",
   "execution_count": 35,
   "metadata": {},
   "outputs": [],
   "source": [
    "from sklearn.model_selection import train_test_split,GridSearchCV\n",
    "import statsmodels.api as sm"
   ]
  },
  {
   "cell_type": "code",
   "execution_count": 36,
   "metadata": {},
   "outputs": [
    {
     "data": {
      "text/plain": [
       "((10854, 29), (4653, 29), (10854,), (4653,))"
      ]
     },
     "execution_count": 36,
     "metadata": {},
     "output_type": "execute_result"
    }
   ],
   "source": [
    "x_train,x_test,y_train,y_test=train_test_split(x,y,test_size=0.3,random_state=45)\n",
    "x_train.shape,x_test.shape,y_train.shape,y_test.shape"
   ]
  },
  {
   "cell_type": "markdown",
   "metadata": {},
   "source": [
    "### SMOTE"
   ]
  },
  {
   "cell_type": "code",
   "execution_count": 37,
   "metadata": {},
   "outputs": [],
   "source": [
    "from imblearn.over_sampling import SMOTE"
   ]
  },
  {
   "cell_type": "code",
   "execution_count": 38,
   "metadata": {},
   "outputs": [],
   "source": [
    "smote = SMOTE(sampling_strategy=1,random_state=10)"
   ]
  },
  {
   "cell_type": "code",
   "execution_count": 39,
   "metadata": {},
   "outputs": [],
   "source": [
    "x_smote,y_smote = smote.fit_resample(x_train,y_train)\n",
    "x_sm = pd.DataFrame(x_smote, columns=x_train.columns)\n",
    "y_sm = pd.DataFrame(y_smote, columns=['TAXI_OUT'])"
   ]
  },
  {
   "cell_type": "code",
   "execution_count": 40,
   "metadata": {
    "scrolled": true
   },
   "outputs": [
    {
     "data": {
      "text/plain": [
       "TAXI_OUT\n",
       "1           7372\n",
       "0           7372\n",
       "dtype: int64"
      ]
     },
     "execution_count": 40,
     "metadata": {},
     "output_type": "execute_result"
    }
   ],
   "source": [
    "y_sm.value_counts()"
   ]
  },
  {
   "cell_type": "code",
   "execution_count": 41,
   "metadata": {},
   "outputs": [],
   "source": [
    "x_train = x_sm\n",
    "y_train = y_sm"
   ]
  },
  {
   "cell_type": "markdown",
   "metadata": {},
   "source": [
    "### LOGISTIC REGRESSION"
   ]
  },
  {
   "cell_type": "code",
   "execution_count": 42,
   "metadata": {
    "scrolled": true
   },
   "outputs": [
    {
     "name": "stdout",
     "output_type": "stream",
     "text": [
      "Optimization terminated successfully.\n",
      "         Current function value: 0.563941\n",
      "         Iterations 6\n"
     ]
    },
    {
     "data": {
      "text/html": [
       "<table class=\"simpletable\">\n",
       "<caption>Logit Regression Results</caption>\n",
       "<tr>\n",
       "  <th>Dep. Variable:</th>       <td>TAXI_OUT</td>     <th>  No. Observations:  </th>  <td> 14744</td> \n",
       "</tr>\n",
       "<tr>\n",
       "  <th>Model:</th>                 <td>Logit</td>      <th>  Df Residuals:      </th>  <td> 14714</td> \n",
       "</tr>\n",
       "<tr>\n",
       "  <th>Method:</th>                 <td>MLE</td>       <th>  Df Model:          </th>  <td>    29</td> \n",
       "</tr>\n",
       "<tr>\n",
       "  <th>Date:</th>            <td>Wed, 12 Jan 2022</td> <th>  Pseudo R-squ.:     </th>  <td>0.1864</td> \n",
       "</tr>\n",
       "<tr>\n",
       "  <th>Time:</th>                <td>11:52:50</td>     <th>  Log-Likelihood:    </th> <td> -8314.8</td>\n",
       "</tr>\n",
       "<tr>\n",
       "  <th>converged:</th>             <td>True</td>       <th>  LL-Null:           </th> <td> -10220.</td>\n",
       "</tr>\n",
       "<tr>\n",
       "  <th>Covariance Type:</th>     <td>nonrobust</td>    <th>  LLR p-value:       </th>  <td> 0.000</td> \n",
       "</tr>\n",
       "</table>\n",
       "<table class=\"simpletable\">\n",
       "<tr>\n",
       "               <td></td>                  <th>coef</th>     <th>std err</th>      <th>z</th>      <th>P>|z|</th>  <th>[0.025</th>    <th>0.975]</th>  \n",
       "</tr>\n",
       "<tr>\n",
       "  <th>const</th>                       <td>   -3.1497</td> <td>    0.116</td> <td>  -27.109</td> <td> 0.000</td> <td>   -3.377</td> <td>   -2.922</td>\n",
       "</tr>\n",
       "<tr>\n",
       "  <th>DAY_OF_WEEK</th>                 <td>    0.0152</td> <td>    0.010</td> <td>    1.563</td> <td> 0.118</td> <td>   -0.004</td> <td>    0.034</td>\n",
       "</tr>\n",
       "<tr>\n",
       "  <th>DISTANCE</th>                    <td>-7.135e-05</td> <td> 2.36e-05</td> <td>   -3.025</td> <td> 0.002</td> <td>   -0.000</td> <td>-2.51e-05</td>\n",
       "</tr>\n",
       "<tr>\n",
       "  <th>Dew Point</th>                   <td>    0.0221</td> <td>    0.022</td> <td>    1.027</td> <td> 0.304</td> <td>   -0.020</td> <td>    0.064</td>\n",
       "</tr>\n",
       "<tr>\n",
       "  <th>Humidity</th>                    <td>    0.0386</td> <td>    0.021</td> <td>    1.871</td> <td> 0.061</td> <td>   -0.002</td> <td>    0.079</td>\n",
       "</tr>\n",
       "<tr>\n",
       "  <th>Wind Speed</th>                  <td>   -0.1531</td> <td>    0.026</td> <td>   -5.958</td> <td> 0.000</td> <td>   -0.203</td> <td>   -0.103</td>\n",
       "</tr>\n",
       "<tr>\n",
       "  <th>Wind Gust</th>                   <td>   -0.0036</td> <td>    0.002</td> <td>   -1.491</td> <td> 0.136</td> <td>   -0.008</td> <td>    0.001</td>\n",
       "</tr>\n",
       "<tr>\n",
       "  <th>CARRIER_CODE</th>                <td>    0.0026</td> <td>    0.011</td> <td>    0.234</td> <td> 0.815</td> <td>   -0.019</td> <td>    0.024</td>\n",
       "</tr>\n",
       "<tr>\n",
       "  <th>DEST</th>                        <td>   -0.0065</td> <td>    0.001</td> <td>   -5.063</td> <td> 0.000</td> <td>   -0.009</td> <td>   -0.004</td>\n",
       "</tr>\n",
       "<tr>\n",
       "  <th>Condition</th>                   <td>   -0.0244</td> <td>    0.004</td> <td>   -6.966</td> <td> 0.000</td> <td>   -0.031</td> <td>   -0.018</td>\n",
       "</tr>\n",
       "<tr>\n",
       "  <th>DEP_DELAY_EARLY</th>             <td>    0.5464</td> <td>    0.043</td> <td>   12.750</td> <td> 0.000</td> <td>    0.462</td> <td>    0.630</td>\n",
       "</tr>\n",
       "<tr>\n",
       "  <th>DEP_DELAY_ONTIME</th>            <td>    0.5394</td> <td>    0.098</td> <td>    5.481</td> <td> 0.000</td> <td>    0.347</td> <td>    0.732</td>\n",
       "</tr>\n",
       "<tr>\n",
       "  <th>SCHEDULED_DEPARTURE_Morning</th> <td>    0.6549</td> <td>    0.244</td> <td>    2.687</td> <td> 0.007</td> <td>    0.177</td> <td>    1.133</td>\n",
       "</tr>\n",
       "<tr>\n",
       "  <th>SCHEDULED_DEPARTURE_Night</th>   <td>   -0.5979</td> <td>    0.195</td> <td>   -3.065</td> <td> 0.002</td> <td>   -0.980</td> <td>   -0.216</td>\n",
       "</tr>\n",
       "<tr>\n",
       "  <th>SCHEDULED_DEPARTURE_Noon</th>    <td>    1.3101</td> <td>    0.153</td> <td>    8.582</td> <td> 0.000</td> <td>    1.011</td> <td>    1.609</td>\n",
       "</tr>\n",
       "<tr>\n",
       "  <th>ACTUAL_DEPATURE_Morning</th>     <td>    0.6710</td> <td>    0.240</td> <td>    2.790</td> <td> 0.005</td> <td>    0.200</td> <td>    1.142</td>\n",
       "</tr>\n",
       "<tr>\n",
       "  <th>ACTUAL_DEPATURE_Night</th>       <td>    0.7809</td> <td>    0.191</td> <td>    4.093</td> <td> 0.000</td> <td>    0.407</td> <td>    1.155</td>\n",
       "</tr>\n",
       "<tr>\n",
       "  <th>ACTUAL_DEPATURE_Noon</th>        <td>    0.8084</td> <td>    0.152</td> <td>    5.333</td> <td> 0.000</td> <td>    0.511</td> <td>    1.106</td>\n",
       "</tr>\n",
       "<tr>\n",
       "  <th>SCHEDULED_ARRIVAL_Midnight</th>  <td>    1.7338</td> <td>    0.144</td> <td>   12.004</td> <td> 0.000</td> <td>    1.451</td> <td>    2.017</td>\n",
       "</tr>\n",
       "<tr>\n",
       "  <th>SCHEDULED_ARRIVAL_Morning</th>   <td>    0.4679</td> <td>    0.100</td> <td>    4.663</td> <td> 0.000</td> <td>    0.271</td> <td>    0.665</td>\n",
       "</tr>\n",
       "<tr>\n",
       "  <th>SCHEDULED_ARRIVAL_Night</th>     <td>    1.6345</td> <td>    0.079</td> <td>   20.637</td> <td> 0.000</td> <td>    1.479</td> <td>    1.790</td>\n",
       "</tr>\n",
       "<tr>\n",
       "  <th>SCHEDULED_ARRIVAL_Noon</th>      <td>    0.2420</td> <td>    0.079</td> <td>    3.078</td> <td> 0.002</td> <td>    0.088</td> <td>    0.396</td>\n",
       "</tr>\n",
       "<tr>\n",
       "  <th>Wind_N</th>                      <td>    1.6542</td> <td>    0.061</td> <td>   27.074</td> <td> 0.000</td> <td>    1.534</td> <td>    1.774</td>\n",
       "</tr>\n",
       "<tr>\n",
       "  <th>Wind_S</th>                      <td>    1.4310</td> <td>    0.063</td> <td>   22.642</td> <td> 0.000</td> <td>    1.307</td> <td>    1.555</td>\n",
       "</tr>\n",
       "<tr>\n",
       "  <th>Wind_V</th>                      <td>    1.9280</td> <td>    0.228</td> <td>    8.454</td> <td> 0.000</td> <td>    1.481</td> <td>    2.375</td>\n",
       "</tr>\n",
       "<tr>\n",
       "  <th>Wind_W</th>                      <td>    1.6974</td> <td>    0.061</td> <td>   27.711</td> <td> 0.000</td> <td>    1.577</td> <td>    1.817</td>\n",
       "</tr>\n",
       "<tr>\n",
       "  <th>Region_North East</th>           <td>   -0.0571</td> <td>    0.080</td> <td>   -0.718</td> <td> 0.473</td> <td>   -0.213</td> <td>    0.099</td>\n",
       "</tr>\n",
       "<tr>\n",
       "  <th>Region_South</th>                <td>    0.2859</td> <td>    0.063</td> <td>    4.533</td> <td> 0.000</td> <td>    0.162</td> <td>    0.409</td>\n",
       "</tr>\n",
       "<tr>\n",
       "  <th>Region_West</th>                 <td>    0.0585</td> <td>    0.080</td> <td>    0.734</td> <td> 0.463</td> <td>   -0.098</td> <td>    0.215</td>\n",
       "</tr>\n",
       "<tr>\n",
       "  <th>FLIGHT_TRAFFIC_Medium</th>       <td>    0.6987</td> <td>    0.056</td> <td>   12.447</td> <td> 0.000</td> <td>    0.589</td> <td>    0.809</td>\n",
       "</tr>\n",
       "</table>"
      ],
      "text/plain": [
       "<class 'statsmodels.iolib.summary.Summary'>\n",
       "\"\"\"\n",
       "                           Logit Regression Results                           \n",
       "==============================================================================\n",
       "Dep. Variable:               TAXI_OUT   No. Observations:                14744\n",
       "Model:                          Logit   Df Residuals:                    14714\n",
       "Method:                           MLE   Df Model:                           29\n",
       "Date:                Wed, 12 Jan 2022   Pseudo R-squ.:                  0.1864\n",
       "Time:                        11:52:50   Log-Likelihood:                -8314.8\n",
       "converged:                       True   LL-Null:                       -10220.\n",
       "Covariance Type:            nonrobust   LLR p-value:                     0.000\n",
       "===============================================================================================\n",
       "                                  coef    std err          z      P>|z|      [0.025      0.975]\n",
       "-----------------------------------------------------------------------------------------------\n",
       "const                          -3.1497      0.116    -27.109      0.000      -3.377      -2.922\n",
       "DAY_OF_WEEK                     0.0152      0.010      1.563      0.118      -0.004       0.034\n",
       "DISTANCE                    -7.135e-05   2.36e-05     -3.025      0.002      -0.000   -2.51e-05\n",
       "Dew Point                       0.0221      0.022      1.027      0.304      -0.020       0.064\n",
       "Humidity                        0.0386      0.021      1.871      0.061      -0.002       0.079\n",
       "Wind Speed                     -0.1531      0.026     -5.958      0.000      -0.203      -0.103\n",
       "Wind Gust                      -0.0036      0.002     -1.491      0.136      -0.008       0.001\n",
       "CARRIER_CODE                    0.0026      0.011      0.234      0.815      -0.019       0.024\n",
       "DEST                           -0.0065      0.001     -5.063      0.000      -0.009      -0.004\n",
       "Condition                      -0.0244      0.004     -6.966      0.000      -0.031      -0.018\n",
       "DEP_DELAY_EARLY                 0.5464      0.043     12.750      0.000       0.462       0.630\n",
       "DEP_DELAY_ONTIME                0.5394      0.098      5.481      0.000       0.347       0.732\n",
       "SCHEDULED_DEPARTURE_Morning     0.6549      0.244      2.687      0.007       0.177       1.133\n",
       "SCHEDULED_DEPARTURE_Night      -0.5979      0.195     -3.065      0.002      -0.980      -0.216\n",
       "SCHEDULED_DEPARTURE_Noon        1.3101      0.153      8.582      0.000       1.011       1.609\n",
       "ACTUAL_DEPATURE_Morning         0.6710      0.240      2.790      0.005       0.200       1.142\n",
       "ACTUAL_DEPATURE_Night           0.7809      0.191      4.093      0.000       0.407       1.155\n",
       "ACTUAL_DEPATURE_Noon            0.8084      0.152      5.333      0.000       0.511       1.106\n",
       "SCHEDULED_ARRIVAL_Midnight      1.7338      0.144     12.004      0.000       1.451       2.017\n",
       "SCHEDULED_ARRIVAL_Morning       0.4679      0.100      4.663      0.000       0.271       0.665\n",
       "SCHEDULED_ARRIVAL_Night         1.6345      0.079     20.637      0.000       1.479       1.790\n",
       "SCHEDULED_ARRIVAL_Noon          0.2420      0.079      3.078      0.002       0.088       0.396\n",
       "Wind_N                          1.6542      0.061     27.074      0.000       1.534       1.774\n",
       "Wind_S                          1.4310      0.063     22.642      0.000       1.307       1.555\n",
       "Wind_V                          1.9280      0.228      8.454      0.000       1.481       2.375\n",
       "Wind_W                          1.6974      0.061     27.711      0.000       1.577       1.817\n",
       "Region_North East              -0.0571      0.080     -0.718      0.473      -0.213       0.099\n",
       "Region_South                    0.2859      0.063      4.533      0.000       0.162       0.409\n",
       "Region_West                     0.0585      0.080      0.734      0.463      -0.098       0.215\n",
       "FLIGHT_TRAFFIC_Medium           0.6987      0.056     12.447      0.000       0.589       0.809\n",
       "===============================================================================================\n",
       "\"\"\""
      ]
     },
     "execution_count": 42,
     "metadata": {},
     "output_type": "execute_result"
    }
   ],
   "source": [
    "from sklearn.linear_model import LogisticRegression\n",
    "import statsmodels.api as sm\n",
    "xc_train = sm.add_constant(x_train)\n",
    "xc_test = sm.add_constant(x_test)\n",
    "\n",
    "logit_full_model = sm.Logit(y_train,xc_train).fit()\n",
    "logit_full_model.summary()"
   ]
  },
  {
   "cell_type": "code",
   "execution_count": 43,
   "metadata": {},
   "outputs": [
    {
     "data": {
      "text/plain": [
       "DAY_OF_WEEK          0.118110\n",
       "Dew Point            0.304484\n",
       "Humidity             0.061329\n",
       "Wind Gust            0.135956\n",
       "CARRIER_CODE         0.814703\n",
       "Region_North East    0.472991\n",
       "Region_West          0.462842\n",
       "dtype: float64"
      ]
     },
     "execution_count": 43,
     "metadata": {},
     "output_type": "execute_result"
    }
   ],
   "source": [
    "a=logit_full_model.pvalues\n",
    "a[a>0.05]"
   ]
  },
  {
   "cell_type": "markdown",
   "metadata": {},
   "source": [
    "### LOGISTIC REGRESSION"
   ]
  },
  {
   "cell_type": "code",
   "execution_count": 44,
   "metadata": {},
   "outputs": [
    {
     "data": {
      "image/png": "[encoded data removed]",
      "text/plain": [
       "<Figure size 432x288 with 2 Axes>"
      ]
     },
     "metadata": {
      "needs_background": "light"
     },
     "output_type": "display_data"
    }
   ],
   "source": [
    "log_reg = LogisticRegression()\n",
    "log_reg_full_model = log_reg.fit(x_train,y_train)\n",
    "y_test_pred = log_reg_full_model.predict(x_test.astype(float))\n",
    "y_train_pred = log_reg_full_model.predict(x_train.astype(float))\n",
    "\n",
    "from sklearn.metrics import confusion_matrix\n",
    "cm = confusion_matrix(y_test.astype(float),y_test_pred)\n",
    "sns.heatmap(cm,annot=True,fmt='.0f');"
   ]
  },
  {
   "cell_type": "code",
   "execution_count": 45,
   "metadata": {},
   "outputs": [
    {
     "name": "stdout",
     "output_type": "stream",
     "text": [
      "              precision    recall  f1-score   support\n",
      "\n",
      "           0       0.65      0.61      0.63      7372\n",
      "           1       0.63      0.67      0.65      7372\n",
      "\n",
      "    accuracy                           0.64     14744\n",
      "   macro avg       0.64      0.64      0.64     14744\n",
      "weighted avg       0.64      0.64      0.64     14744\n",
      "\n"
     ]
    }
   ],
   "source": [
    "print(classification_report(y_train,y_train_pred))"
   ]
  },
  {
   "cell_type": "code",
   "execution_count": 46,
   "metadata": {
    "scrolled": false
   },
   "outputs": [
    {
     "name": "stdout",
     "output_type": "stream",
     "text": [
      "              precision    recall  f1-score   support\n",
      "\n",
      "           0       0.37      0.41      0.39      1462\n",
      "           1       0.72      0.68      0.70      3191\n",
      "\n",
      "    accuracy                           0.60      4653\n",
      "   macro avg       0.54      0.55      0.55      4653\n",
      "weighted avg       0.61      0.60      0.60      4653\n",
      "\n"
     ]
    }
   ],
   "source": [
    "print(classification_report(y_test,y_test_pred))"
   ]
  },
  {
   "cell_type": "code",
   "execution_count": 47,
   "metadata": {},
   "outputs": [
    {
     "name": "stdout",
     "output_type": "stream",
     "text": [
      "Train accuracy =  0.6417525773195877\n",
      "Test accuracy =  0.5978938319363851\n"
     ]
    }
   ],
   "source": [
    "from sklearn.metrics import accuracy_score\n",
    "log1_accuracy_score_train = accuracy_score(y_train,y_train_pred)\n",
    "print(\"Train accuracy = \",log1_accuracy_score_train)\n",
    "log1_accuracy_score_test = accuracy_score(y_test,y_test_pred)\n",
    "print(\"Test accuracy = \",log1_accuracy_score_test)"
   ]
  },
  {
   "cell_type": "code",
   "execution_count": 48,
   "metadata": {},
   "outputs": [
    {
     "name": "stdout",
     "output_type": "stream",
     "text": [
      "0.6710522447470721\n"
     ]
    }
   ],
   "source": [
    "# Stratified KFold\n",
    "from sklearn.model_selection import StratifiedKFold\n",
    "from sklearn.model_selection import KFold\n",
    "from sklearn.model_selection import cross_val_score\n",
    "\n",
    "skfold=StratifiedKFold(n_splits=5)\n",
    "model = LogisticRegression()\n",
    "log1_scores=cross_val_score(model,x,y,cv=skfold)\n",
    "print(np.mean(log1_scores))"
   ]
  },
  {
   "cell_type": "code",
   "execution_count": 49,
   "metadata": {},
   "outputs": [
    {
     "name": "stdout",
     "output_type": "stream",
     "text": [
      "Bias error: 0.32894775525292785\n",
      "Variance error: 0.009158052249289336\n"
     ]
    }
   ],
   "source": [
    "# Bias and Variance error\n",
    "log1_bias = 1-np.mean(log1_scores)\n",
    "log1_var = np.std(log1_scores)/np.mean(log1_scores)\n",
    "print('Bias error:',log1_bias)\n",
    "print('Variance error:', log1_var)"
   ]
  },
  {
   "cell_type": "code",
   "execution_count": 50,
   "metadata": {},
   "outputs": [
    {
     "data": {
      "text/plain": [
       "Text(0.5, 1.0, 'ROC Curve')"
      ]
     },
     "execution_count": 50,
     "metadata": {},
     "output_type": "execute_result"
    },
    {
     "data": {
      "image/png": "[encoded data removed]",
      "text/plain": [
       "<Figure size 432x288 with 1 Axes>"
      ]
     },
     "metadata": {
      "needs_background": "light"
     },
     "output_type": "display_data"
    }
   ],
   "source": [
    "#ROC Curve\n",
    "from sklearn.metrics import roc_curve,roc_auc_score\n",
    "prob = log_reg_full_model.predict_proba(x_test)\n",
    "prob = prob[:,1]\n",
    "fpr,tpr,thres = roc_curve(y_test,prob)\n",
    "#roc_df = pd.DataFrame({'TPR':tpr,'FPR':fpr,'Threshold':thres})\n",
    "plt.plot(fpr,tpr)\n",
    "plt.plot([[0,0],[1,1]],color='red')\n",
    "plt.xlabel('FPR')\n",
    "plt.ylabel('TPR')\n",
    "plt.title('ROC Curve')"
   ]
  },
  {
   "cell_type": "markdown",
   "metadata": {},
   "source": [
    "# FEATURE ELIMINATION"
   ]
  },
  {
   "cell_type": "markdown",
   "metadata": {},
   "source": [
    "### Recursive Feature Elimination"
   ]
  },
  {
   "cell_type": "markdown",
   "metadata": {},
   "source": [
    "###### Features for Recursive feature elimination"
   ]
  },
  {
   "cell_type": "code",
   "execution_count": 51,
   "metadata": {},
   "outputs": [
    {
     "data": {
      "text/plain": [
       "array([11, 16, 10, 15,  6, 14, 12, 13,  8,  1,  1,  1,  2,  1,  1,  1,  1,\n",
       "        1,  3,  1,  5,  1,  1,  1,  1,  9,  4,  7,  1])"
      ]
     },
     "execution_count": 51,
     "metadata": {},
     "output_type": "execute_result"
    }
   ],
   "source": [
    "from sklearn.feature_selection import RFE\n",
    "rfe = RFE(estimator=log_reg)\n",
    "rfe_model = rfe.fit(x_train,y_train)\n",
    "rfe_model.ranking_"
   ]
  },
  {
   "cell_type": "code",
   "execution_count": 52,
   "metadata": {},
   "outputs": [
    {
     "data": {
      "text/html": [
       "<div>\n",
       "<style scoped>\n",
       "    .dataframe tbody tr th:only-of-type {\n",
       "        vertical-align: middle;\n",
       "    }\n",
       "\n",
       "    .dataframe tbody tr th {\n",
       "        vertical-align: top;\n",
       "    }\n",
       "\n",
       "    .dataframe thead th {\n",
       "        text-align: right;\n",
       "    }\n",
       "</style>\n",
       "<table border=\"1\" class=\"dataframe\">\n",
       "  <thead>\n",
       "    <tr style=\"text-align: right;\">\n",
       "      <th></th>\n",
       "      <th>Feature</th>\n",
       "      <th>Feature_Rank</th>\n",
       "    </tr>\n",
       "  </thead>\n",
       "  <tbody>\n",
       "    <tr>\n",
       "      <th>9</th>\n",
       "      <td>DEP_DELAY_EARLY</td>\n",
       "      <td>1</td>\n",
       "    </tr>\n",
       "    <tr>\n",
       "      <th>10</th>\n",
       "      <td>DEP_DELAY_ONTIME</td>\n",
       "      <td>1</td>\n",
       "    </tr>\n",
       "    <tr>\n",
       "      <th>11</th>\n",
       "      <td>SCHEDULED_DEPARTURE_Morning</td>\n",
       "      <td>1</td>\n",
       "    </tr>\n",
       "    <tr>\n",
       "      <th>13</th>\n",
       "      <td>SCHEDULED_DEPARTURE_Noon</td>\n",
       "      <td>1</td>\n",
       "    </tr>\n",
       "    <tr>\n",
       "      <th>14</th>\n",
       "      <td>ACTUAL_DEPATURE_Morning</td>\n",
       "      <td>1</td>\n",
       "    </tr>\n",
       "    <tr>\n",
       "      <th>15</th>\n",
       "      <td>ACTUAL_DEPATURE_Night</td>\n",
       "      <td>1</td>\n",
       "    </tr>\n",
       "    <tr>\n",
       "      <th>16</th>\n",
       "      <td>ACTUAL_DEPATURE_Noon</td>\n",
       "      <td>1</td>\n",
       "    </tr>\n",
       "    <tr>\n",
       "      <th>17</th>\n",
       "      <td>SCHEDULED_ARRIVAL_Midnight</td>\n",
       "      <td>1</td>\n",
       "    </tr>\n",
       "    <tr>\n",
       "      <th>19</th>\n",
       "      <td>SCHEDULED_ARRIVAL_Night</td>\n",
       "      <td>1</td>\n",
       "    </tr>\n",
       "    <tr>\n",
       "      <th>21</th>\n",
       "      <td>Wind_N</td>\n",
       "      <td>1</td>\n",
       "    </tr>\n",
       "    <tr>\n",
       "      <th>22</th>\n",
       "      <td>Wind_S</td>\n",
       "      <td>1</td>\n",
       "    </tr>\n",
       "    <tr>\n",
       "      <th>23</th>\n",
       "      <td>Wind_V</td>\n",
       "      <td>1</td>\n",
       "    </tr>\n",
       "    <tr>\n",
       "      <th>24</th>\n",
       "      <td>Wind_W</td>\n",
       "      <td>1</td>\n",
       "    </tr>\n",
       "    <tr>\n",
       "      <th>28</th>\n",
       "      <td>FLIGHT_TRAFFIC_Medium</td>\n",
       "      <td>1</td>\n",
       "    </tr>\n",
       "  </tbody>\n",
       "</table>\n",
       "</div>"
      ],
      "text/plain": [
       "                        Feature  Feature_Rank\n",
       "9               DEP_DELAY_EARLY             1\n",
       "10             DEP_DELAY_ONTIME             1\n",
       "11  SCHEDULED_DEPARTURE_Morning             1\n",
       "13     SCHEDULED_DEPARTURE_Noon             1\n",
       "14      ACTUAL_DEPATURE_Morning             1\n",
       "15        ACTUAL_DEPATURE_Night             1\n",
       "16         ACTUAL_DEPATURE_Noon             1\n",
       "17   SCHEDULED_ARRIVAL_Midnight             1\n",
       "19      SCHEDULED_ARRIVAL_Night             1\n",
       "21                       Wind_N             1\n",
       "22                       Wind_S             1\n",
       "23                       Wind_V             1\n",
       "24                       Wind_W             1\n",
       "28        FLIGHT_TRAFFIC_Medium             1"
      ]
     },
     "execution_count": 52,
     "metadata": {},
     "output_type": "execute_result"
    }
   ],
   "source": [
    "rank= pd.DataFrame()\n",
    "rank['Feature']=x_train.columns\n",
    "rank['Feature_Rank']=rfe_model.ranking_\n",
    "fea_r=rank[rank['Feature_Rank']==1]\n",
    "fea_r"
   ]
  },
  {
   "cell_type": "code",
   "execution_count": 53,
   "metadata": {},
   "outputs": [],
   "source": [
    "x_train = x_train[fea_r['Feature']]\n",
    "x_test= x_test[fea_r['Feature']]"
   ]
  },
  {
   "cell_type": "markdown",
   "metadata": {},
   "source": [
    "## Base Model and other Models"
   ]
  },
  {
   "cell_type": "markdown",
   "metadata": {},
   "source": [
    "#### LOGISTIC REGRESSION"
   ]
  },
  {
   "cell_type": "code",
   "execution_count": 54,
   "metadata": {},
   "outputs": [
    {
     "data": {
      "image/png": "[encoded data removed]",
      "text/plain": [
       "<Figure size 432x288 with 2 Axes>"
      ]
     },
     "metadata": {
      "needs_background": "light"
     },
     "output_type": "display_data"
    }
   ],
   "source": [
    "log_reg = LogisticRegression()\n",
    "log_reg_full_model = log_reg.fit(x_train,y_train)\n",
    "y_test_pred = log_reg_full_model.predict(x_test.astype(float))\n",
    "y_train_pred = log_reg_full_model.predict(x_train.astype(float))\n",
    "\n",
    "from sklearn.metrics import confusion_matrix\n",
    "cm = confusion_matrix(y_test.astype(float),y_test_pred)\n",
    "sns.heatmap(cm,annot=True,fmt='.0f');"
   ]
  },
  {
   "cell_type": "code",
   "execution_count": 55,
   "metadata": {
    "scrolled": false
   },
   "outputs": [
    {
     "name": "stdout",
     "output_type": "stream",
     "text": [
      "              precision    recall  f1-score   support\n",
      "\n",
      "           0       0.37      0.23      0.28      1462\n",
      "           1       0.70      0.82      0.76      3191\n",
      "\n",
      "    accuracy                           0.64      4653\n",
      "   macro avg       0.53      0.53      0.52      4653\n",
      "weighted avg       0.60      0.64      0.61      4653\n",
      "\n"
     ]
    }
   ],
   "source": [
    "print(classification_report(y_test,y_test_pred))"
   ]
  },
  {
   "cell_type": "code",
   "execution_count": 56,
   "metadata": {
    "scrolled": false
   },
   "outputs": [
    {
     "name": "stdout",
     "output_type": "stream",
     "text": [
      "              precision    recall  f1-score   support\n",
      "\n",
      "           0       0.76      0.57      0.65      7372\n",
      "           1       0.66      0.82      0.73      7372\n",
      "\n",
      "    accuracy                           0.69     14744\n",
      "   macro avg       0.71      0.69      0.69     14744\n",
      "weighted avg       0.71      0.69      0.69     14744\n",
      "\n"
     ]
    }
   ],
   "source": [
    "print(classification_report(y_train,y_train_pred))"
   ]
  },
  {
   "cell_type": "code",
   "execution_count": 57,
   "metadata": {},
   "outputs": [
    {
     "name": "stdout",
     "output_type": "stream",
     "text": [
      "Train accuracy =  0.6946554530656538\n",
      "Test accuracy =  0.6350741457124436\n"
     ]
    }
   ],
   "source": [
    "from sklearn.metrics import accuracy_score\n",
    "log_accuracy_score_train = accuracy_score(y_train,y_train_pred)\n",
    "print(\"Train accuracy = \",log_accuracy_score_train)\n",
    "log_accuracy_score_test = accuracy_score(y_test,y_test_pred)\n",
    "print(\"Test accuracy = \",log_accuracy_score_test)"
   ]
  },
  {
   "cell_type": "code",
   "execution_count": 58,
   "metadata": {},
   "outputs": [
    {
     "name": "stdout",
     "output_type": "stream",
     "text": [
      "0.6710522447470721\n"
     ]
    }
   ],
   "source": [
    "# Stratified KFold\n",
    "from sklearn.model_selection import StratifiedKFold\n",
    "skfold=StratifiedKFold(n_splits=5)\n",
    "model = LogisticRegression()\n",
    "log_scores=cross_val_score(model,x,y,cv=skfold)\n",
    "print(np.mean(log_scores))"
   ]
  },
  {
   "cell_type": "code",
   "execution_count": 59,
   "metadata": {},
   "outputs": [
    {
     "name": "stdout",
     "output_type": "stream",
     "text": [
      "Bias error: 0.32894775525292785\n",
      "Variance error: 0.009158052249289336\n"
     ]
    }
   ],
   "source": [
    "# Bias and Variance error\n",
    "log_bias = 1-np.mean(log_scores)\n",
    "log_var = np.std(log_scores)/np.mean(log_scores)\n",
    "print('Bias error:',log_bias)\n",
    "print('Variance error:', log_var)"
   ]
  },
  {
   "cell_type": "code",
   "execution_count": 60,
   "metadata": {},
   "outputs": [
    {
     "data": {
      "text/plain": [
       "Text(0.5, 1.0, 'ROC Curve')"
      ]
     },
     "execution_count": 60,
     "metadata": {},
     "output_type": "execute_result"
    },
    {
     "data": {
      "image/png": "[encoded data removed]",
      "text/plain": [
       "<Figure size 432x288 with 1 Axes>"
      ]
     },
     "metadata": {
      "needs_background": "light"
     },
     "output_type": "display_data"
    }
   ],
   "source": [
    "#ROC Curve\n",
    "prob = log_reg_full_model.predict_proba(x_test)\n",
    "prob = prob[:,1]\n",
    "from sklearn.metrics import roc_curve,roc_auc_score\n",
    "fpr,tpr,thres = roc_curve(y_test,prob)\n",
    "roc_df = pd.DataFrame({'TPR':tpr,'FPR':fpr,'Threshold':thres})\n",
    "plt.plot(fpr,tpr)\n",
    "plt.plot([[0,0],[1,1]],color='red')\n",
    "plt.xlabel('FPR')\n",
    "plt.ylabel('TPR')\n",
    "plt.title('ROC Curve')"
   ]
  },
  {
   "cell_type": "code",
   "execution_count": 61,
   "metadata": {},
   "outputs": [
    {
     "data": {
      "text/plain": [
       "(0.6946554530656538,\n",
       " 0.6350741457124436,\n",
       " 0.6710522447470721,\n",
       " 0.32894775525292785,\n",
       " 0.009158052249289336)"
      ]
     },
     "execution_count": 61,
     "metadata": {},
     "output_type": "execute_result"
    }
   ],
   "source": [
    "log_accuracy_score_train,log_accuracy_score_test, np.mean(log_scores), log_bias, log_var"
   ]
  },
  {
   "cell_type": "code",
   "execution_count": 62,
   "metadata": {},
   "outputs": [
    {
     "data": {
      "text/plain": [
       "(0.6417525773195877,\n",
       " 0.5978938319363851,\n",
       " 0.6710522447470721,\n",
       " 0.32894775525292785,\n",
       " 0.009158052249289336)"
      ]
     },
     "execution_count": 62,
     "metadata": {},
     "output_type": "execute_result"
    }
   ],
   "source": [
    "log1_accuracy_score_train,log1_accuracy_score_test, np.mean(log1_scores), log1_bias, log1_var"
   ]
  },
  {
   "cell_type": "markdown",
   "metadata": {},
   "source": [
    "### K Nearest Neighbors"
   ]
  },
  {
   "cell_type": "code",
   "execution_count": 63,
   "metadata": {},
   "outputs": [
    {
     "data": {
      "image/png": "[encoded data removed]",
      "text/plain": [
       "<Figure size 432x288 with 2 Axes>"
      ]
     },
     "metadata": {
      "needs_background": "light"
     },
     "output_type": "display_data"
    }
   ],
   "source": [
    "from sklearn.neighbors import KNeighborsClassifier\n",
    "knn = KNeighborsClassifier()\n",
    "knn_model = knn.fit(x_train,y_train)\n",
    "y_test_pred = knn_model.predict(x_test)\n",
    "y_train_pred = knn_model.predict(x_train)\n",
    "y_test_prob_1 = knn_model.predict_proba(x_test)[:,1]\n",
    "\n",
    "cm = confusion_matrix(y_test,y_test_pred)\n",
    "sns.heatmap(cm,annot=True,fmt='.0f');"
   ]
  },
  {
   "cell_type": "code",
   "execution_count": 64,
   "metadata": {
    "scrolled": true
   },
   "outputs": [
    {
     "name": "stdout",
     "output_type": "stream",
     "text": [
      "              precision    recall  f1-score   support\n",
      "\n",
      "           0       0.64      0.25      0.36      7372\n",
      "           1       0.53      0.86      0.66      7372\n",
      "\n",
      "    accuracy                           0.56     14744\n",
      "   macro avg       0.59      0.56      0.51     14744\n",
      "weighted avg       0.59      0.56      0.51     14744\n",
      "\n"
     ]
    }
   ],
   "source": [
    "print(classification_report(y_train,y_train_pred))"
   ]
  },
  {
   "cell_type": "code",
   "execution_count": 65,
   "metadata": {
    "scrolled": true
   },
   "outputs": [
    {
     "name": "stdout",
     "output_type": "stream",
     "text": [
      "              precision    recall  f1-score   support\n",
      "\n",
      "           0       0.35      0.16      0.22      1462\n",
      "           1       0.69      0.86      0.77      3191\n",
      "\n",
      "    accuracy                           0.64      4653\n",
      "   macro avg       0.52      0.51      0.49      4653\n",
      "weighted avg       0.58      0.64      0.60      4653\n",
      "\n"
     ]
    }
   ],
   "source": [
    "print(classification_report(y_test,y_test_pred))"
   ]
  },
  {
   "cell_type": "code",
   "execution_count": 66,
   "metadata": {},
   "outputs": [
    {
     "name": "stdout",
     "output_type": "stream",
     "text": [
      "Train accuracy =  0.5562262615301139\n",
      "Test accuracy =  0.6417365140769397\n"
     ]
    }
   ],
   "source": [
    "knn_accuracy_score_train = accuracy_score(y_train,y_train_pred)\n",
    "print(\"Train accuracy = \",knn_accuracy_score_train)\n",
    "knn_accuracy_score_test = accuracy_score(y_test,y_test_pred)\n",
    "print(\"Test accuracy = \",knn_accuracy_score_test)"
   ]
  },
  {
   "cell_type": "code",
   "execution_count": 67,
   "metadata": {},
   "outputs": [
    {
     "name": "stdout",
     "output_type": "stream",
     "text": [
      "0.6281043260727234\n"
     ]
    }
   ],
   "source": [
    "# Stratified KFold\n",
    "from sklearn.model_selection import StratifiedKFold\n",
    "skfold=StratifiedKFold(n_splits=5)\n",
    "model = knn\n",
    "knn_scores=cross_val_score(model,x,y,cv=skfold)\n",
    "print(np.mean(knn_scores))"
   ]
  },
  {
   "cell_type": "code",
   "execution_count": 68,
   "metadata": {},
   "outputs": [
    {
     "name": "stdout",
     "output_type": "stream",
     "text": [
      "Bias error: 0.3718956739272766\n",
      "Variance error: 0.01044271578581613\n"
     ]
    }
   ],
   "source": [
    "# Bias and Variance error\n",
    "knn_bias = 1-np.mean(knn_scores)\n",
    "knn_var = np.std(knn_scores)/np.mean(knn_scores)\n",
    "\n",
    "print('Bias error:', knn_bias)\n",
    "print('Variance error:', knn_var)"
   ]
  },
  {
   "cell_type": "code",
   "execution_count": 69,
   "metadata": {},
   "outputs": [
    {
     "data": {
      "text/plain": [
       "Text(0.5, 1.0, 'ROC Curve')"
      ]
     },
     "execution_count": 69,
     "metadata": {},
     "output_type": "execute_result"
    },
    {
     "data": {
      "image/png": "[encoded data removed]",
      "text/plain": [
       "<Figure size 432x288 with 1 Axes>"
      ]
     },
     "metadata": {
      "needs_background": "light"
     },
     "output_type": "display_data"
    }
   ],
   "source": [
    "# ROC Curve\n",
    "prob = knn_model.predict_proba(x_test)\n",
    "prob = prob[:,1]\n",
    "fpr,tpr,thres = roc_curve(y_test,prob)\n",
    "roc_df = pd.DataFrame({'TPR':tpr,'FPR':fpr,'Threshold':thres})\n",
    "plt.plot(fpr,tpr)\n",
    "plt.plot([[0,0],[1,1]],color='red')\n",
    "plt.xlabel('FPR')\n",
    "plt.ylabel('TPR')\n",
    "plt.title('ROC Curve')"
   ]
  },
  {
   "cell_type": "markdown",
   "metadata": {},
   "source": [
    "### DECISION TREE"
   ]
  },
  {
   "cell_type": "code",
   "execution_count": 70,
   "metadata": {},
   "outputs": [
    {
     "data": {
      "image/png": "[encoded data removed]",
      "text/plain": [
       "<Figure size 432x288 with 2 Axes>"
      ]
     },
     "metadata": {
      "needs_background": "light"
     },
     "output_type": "display_data"
    }
   ],
   "source": [
    "from sklearn.tree import DecisionTreeClassifier\n",
    "dt = DecisionTreeClassifier()\n",
    "dt_model = dt.fit(x_train,y_train)\n",
    "y_test_pred = dt_model.predict(x_test)\n",
    "y_train_pred = dt_model.predict(x_train)\n",
    "y_test_prob_1 = dt_model.predict_proba(x_test)[:,1]\n",
    "\n",
    "cm = confusion_matrix(y_test,y_test_pred)\n",
    "sns.heatmap(cm,annot=True,fmt='.0f');"
   ]
  },
  {
   "cell_type": "code",
   "execution_count": 71,
   "metadata": {
    "scrolled": true
   },
   "outputs": [
    {
     "name": "stdout",
     "output_type": "stream",
     "text": [
      "              precision    recall  f1-score   support\n",
      "\n",
      "           0       0.78      0.56      0.66      7372\n",
      "           1       0.66      0.84      0.74      7372\n",
      "\n",
      "    accuracy                           0.70     14744\n",
      "   macro avg       0.72      0.70      0.70     14744\n",
      "weighted avg       0.72      0.70      0.70     14744\n",
      "\n"
     ]
    }
   ],
   "source": [
    "print(classification_report(y_train,y_train_pred))"
   ]
  },
  {
   "cell_type": "code",
   "execution_count": 72,
   "metadata": {
    "scrolled": false
   },
   "outputs": [
    {
     "name": "stdout",
     "output_type": "stream",
     "text": [
      "              precision    recall  f1-score   support\n",
      "\n",
      "           0       0.37      0.21      0.27      1462\n",
      "           1       0.70      0.83      0.76      3191\n",
      "\n",
      "    accuracy                           0.64      4653\n",
      "   macro avg       0.53      0.52      0.51      4653\n",
      "weighted avg       0.59      0.64      0.61      4653\n",
      "\n"
     ]
    }
   ],
   "source": [
    "print(classification_report(y_test,y_test_pred))"
   ]
  },
  {
   "cell_type": "code",
   "execution_count": 73,
   "metadata": {},
   "outputs": [
    {
     "name": "stdout",
     "output_type": "stream",
     "text": [
      "Train accuracy =  0.7036760716223549\n",
      "Test accuracy =  0.6380829572318935\n"
     ]
    }
   ],
   "source": [
    "dt_accuracy_score_train = accuracy_score(y_train,y_train_pred)\n",
    "print(\"Train accuracy = \",dt_accuracy_score_train)\n",
    "dt_accuracy_score_test = accuracy_score(y_test,y_test_pred)\n",
    "print(\"Test accuracy = \",dt_accuracy_score_test)"
   ]
  },
  {
   "cell_type": "code",
   "execution_count": 74,
   "metadata": {},
   "outputs": [
    {
     "name": "stdout",
     "output_type": "stream",
     "text": [
      "0.5264733137601876\n"
     ]
    }
   ],
   "source": [
    "# Stratified KFold\n",
    "from sklearn.model_selection import StratifiedKFold\n",
    "skfold=StratifiedKFold(n_splits=5)\n",
    "model = dt\n",
    "dt_scores=cross_val_score(model,x,y,cv=skfold)\n",
    "print(np.mean(dt_scores))"
   ]
  },
  {
   "cell_type": "code",
   "execution_count": 75,
   "metadata": {
    "scrolled": true
   },
   "outputs": [
    {
     "name": "stdout",
     "output_type": "stream",
     "text": [
      "Bias error: 0.4735266862398124\n",
      "Variance error: 0.04086744802724142\n"
     ]
    }
   ],
   "source": [
    "# Bias and Variance error\n",
    "dt_bias = 1-np.mean(dt_scores)\n",
    "dt_var = np.std(dt_scores)/np.mean(dt_scores)\n",
    "print('Bias error:',dt_bias)\n",
    "print('Variance error:', dt_var)"
   ]
  },
  {
   "cell_type": "code",
   "execution_count": 76,
   "metadata": {},
   "outputs": [
    {
     "data": {
      "text/plain": [
       "Text(0.5, 1.0, 'ROC Curve')"
      ]
     },
     "execution_count": 76,
     "metadata": {},
     "output_type": "execute_result"
    },
    {
     "data": {
      "image/png": "[encoded data removed]",
      "text/plain": [
       "<Figure size 432x288 with 1 Axes>"
      ]
     },
     "metadata": {
      "needs_background": "light"
     },
     "output_type": "display_data"
    }
   ],
   "source": [
    "# ROC Curve\n",
    "prob = dt_model.predict_proba(x_test)\n",
    "prob = prob[:,1]\n",
    "fpr,tpr,thres = roc_curve(y_test,prob)\n",
    "roc_df = pd.DataFrame({'TPR':tpr,'FPR':fpr,'Threshold':thres})\n",
    "plt.plot(fpr,tpr)\n",
    "plt.plot([[0,0],[1,1]],color='red')\n",
    "plt.xlabel('FPR')\n",
    "plt.ylabel('TPR')\n",
    "plt.title('ROC Curve')"
   ]
  },
  {
   "cell_type": "markdown",
   "metadata": {},
   "source": [
    "### RANDOM FOREST"
   ]
  },
  {
   "cell_type": "code",
   "execution_count": 77,
   "metadata": {},
   "outputs": [
    {
     "data": {
      "image/png": "[encoded data removed]",
      "text/plain": [
       "<Figure size 432x288 with 2 Axes>"
      ]
     },
     "metadata": {
      "needs_background": "light"
     },
     "output_type": "display_data"
    }
   ],
   "source": [
    "from sklearn.ensemble import RandomForestClassifier\n",
    "rf = RandomForestClassifier()\n",
    "rf_model = rf.fit(x_train,y_train)\n",
    "y_test_pred = rf_model.predict(x_test)\n",
    "y_train_pred = rf_model.predict(x_train)\n",
    "y_test_prob_1 = rf_model.predict_proba(x_test)[:,1]\n",
    "\n",
    "cm = confusion_matrix(y_test,y_test_pred)\n",
    "sns.heatmap(cm,annot=True,fmt='.0f');"
   ]
  },
  {
   "cell_type": "code",
   "execution_count": 78,
   "metadata": {
    "scrolled": false
   },
   "outputs": [
    {
     "name": "stdout",
     "output_type": "stream",
     "text": [
      "              precision    recall  f1-score   support\n",
      "\n",
      "           0       0.78      0.56      0.65      7372\n",
      "           1       0.66      0.85      0.74      7372\n",
      "\n",
      "    accuracy                           0.70     14744\n",
      "   macro avg       0.72      0.70      0.70     14744\n",
      "weighted avg       0.72      0.70      0.70     14744\n",
      "\n"
     ]
    }
   ],
   "source": [
    "print(classification_report(y_train,y_train_pred))"
   ]
  },
  {
   "cell_type": "code",
   "execution_count": 79,
   "metadata": {
    "scrolled": false
   },
   "outputs": [
    {
     "name": "stdout",
     "output_type": "stream",
     "text": [
      "              precision    recall  f1-score   support\n",
      "\n",
      "           0       0.37      0.21      0.27      1462\n",
      "           1       0.70      0.84      0.76      3191\n",
      "\n",
      "    accuracy                           0.64      4653\n",
      "   macro avg       0.53      0.52      0.51      4653\n",
      "weighted avg       0.59      0.64      0.61      4653\n",
      "\n"
     ]
    }
   ],
   "source": [
    "print(classification_report(y_test,y_test_pred))"
   ]
  },
  {
   "cell_type": "code",
   "execution_count": 80,
   "metadata": {},
   "outputs": [
    {
     "name": "stdout",
     "output_type": "stream",
     "text": [
      "Train accuracy =  0.7036760716223549\n",
      "Test accuracy =  0.6387277025574898\n"
     ]
    }
   ],
   "source": [
    "from sklearn.metrics import accuracy_score\n",
    "rf_accuracy_score_train = accuracy_score(y_train,y_train_pred)\n",
    "print(\"Train accuracy = \",rf_accuracy_score_train)\n",
    "rf_accuracy_score_test = accuracy_score(y_test,y_test_pred)\n",
    "print(\"Test accuracy = \",rf_accuracy_score_test)"
   ]
  },
  {
   "cell_type": "code",
   "execution_count": 81,
   "metadata": {},
   "outputs": [
    {
     "name": "stdout",
     "output_type": "stream",
     "text": [
      "0.6224954159875633\n"
     ]
    }
   ],
   "source": [
    "# Stratified KFold\n",
    "from sklearn.model_selection import StratifiedKFold\n",
    "skfold=StratifiedKFold(n_splits=5)\n",
    "model = rf\n",
    "rf_scores=cross_val_score(model,x,y,cv=skfold)\n",
    "print(np.mean(rf_scores))"
   ]
  },
  {
   "cell_type": "code",
   "execution_count": 82,
   "metadata": {},
   "outputs": [
    {
     "name": "stdout",
     "output_type": "stream",
     "text": [
      "Bias error: 0.3775045840124367\n",
      "Variance error: 0.07207080634732375\n"
     ]
    }
   ],
   "source": [
    "# Bias and Variance error\n",
    "rf_bias = 1-np.mean(rf_scores)\n",
    "rf_var = np.std(rf_scores)/np.mean(rf_scores)\n",
    "print('Bias error:',rf_bias)\n",
    "print('Variance error:', rf_var)"
   ]
  },
  {
   "cell_type": "code",
   "execution_count": 83,
   "metadata": {},
   "outputs": [
    {
     "data": {
      "text/plain": [
       "Text(0.5, 1.0, 'ROC Curve')"
      ]
     },
     "execution_count": 83,
     "metadata": {},
     "output_type": "execute_result"
    },
    {
     "data": {
      "image/png": "[encoded data removed]",
      "text/plain": [
       "<Figure size 432x288 with 1 Axes>"
      ]
     },
     "metadata": {
      "needs_background": "light"
     },
     "output_type": "display_data"
    }
   ],
   "source": [
    "# ROC Curve\n",
    "prob = rf_model.predict_proba(x_test)\n",
    "prob = prob[:,1]\n",
    "fpr,tpr,thres = roc_curve(y_test,prob)\n",
    "roc_df = pd.DataFrame({'TPR':tpr,'FPR':fpr,'Threshold':thres})\n",
    "plt.plot(fpr,tpr)\n",
    "plt.plot([[0,0],[1,1]],color='red')\n",
    "plt.xlabel('FPR')\n",
    "plt.ylabel('TPR')\n",
    "plt.title('ROC Curve')"
   ]
  },
  {
   "cell_type": "markdown",
   "metadata": {},
   "source": [
    "#### GRADIENT BOOSTING"
   ]
  },
  {
   "cell_type": "code",
   "execution_count": 84,
   "metadata": {},
   "outputs": [
    {
     "data": {
      "image/png": "[encoded data removed]",
      "text/plain": [
       "<Figure size 432x288 with 2 Axes>"
      ]
     },
     "metadata": {
      "needs_background": "light"
     },
     "output_type": "display_data"
    }
   ],
   "source": [
    "from sklearn.ensemble import GradientBoostingClassifier\n",
    "gb = GradientBoostingClassifier()\n",
    "gb_model = gb.fit(x_train,y_train)\n",
    "y_test_pred = gb_model.predict(x_test)\n",
    "y_train_pred = gb_model.predict(x_train)\n",
    "y_test_prob_1 = gb_model.predict_proba(x_test)[:,1]\n",
    "\n",
    "cm = confusion_matrix(y_test,y_test_pred)\n",
    "sns.heatmap(cm,annot=True,fmt='.0f');"
   ]
  },
  {
   "cell_type": "code",
   "execution_count": 85,
   "metadata": {
    "scrolled": false
   },
   "outputs": [
    {
     "name": "stdout",
     "output_type": "stream",
     "text": [
      "              precision    recall  f1-score   support\n",
      "\n",
      "           0       0.76      0.58      0.66      7372\n",
      "           1       0.66      0.82      0.73      7372\n",
      "\n",
      "    accuracy                           0.70     14744\n",
      "   macro avg       0.71      0.70      0.69     14744\n",
      "weighted avg       0.71      0.70      0.69     14744\n",
      "\n"
     ]
    }
   ],
   "source": [
    "print(classification_report(y_train,y_train_pred))"
   ]
  },
  {
   "cell_type": "code",
   "execution_count": 86,
   "metadata": {
    "scrolled": false
   },
   "outputs": [
    {
     "name": "stdout",
     "output_type": "stream",
     "text": [
      "              precision    recall  f1-score   support\n",
      "\n",
      "           0       0.37      0.24      0.29      1462\n",
      "           1       0.70      0.82      0.75      3191\n",
      "\n",
      "    accuracy                           0.63      4653\n",
      "   macro avg       0.54      0.53      0.52      4653\n",
      "weighted avg       0.60      0.63      0.61      4653\n",
      "\n"
     ]
    }
   ],
   "source": [
    "print(classification_report(y_test,y_test_pred))"
   ]
  },
  {
   "cell_type": "code",
   "execution_count": 87,
   "metadata": {},
   "outputs": [
    {
     "name": "stdout",
     "output_type": "stream",
     "text": [
      "Train accuracy =  0.6975040694519805\n",
      "Train accuracy =  0.6344294003868471\n"
     ]
    }
   ],
   "source": [
    "from sklearn.metrics import accuracy_score\n",
    "gb_accuracy_score_train = accuracy_score(y_train,y_train_pred)\n",
    "print(\"Train accuracy = \",gb_accuracy_score_train)\n",
    "gb_accuracy_score_test = accuracy_score(y_test,y_test_pred)\n",
    "print(\"Train accuracy = \",gb_accuracy_score_test)"
   ]
  },
  {
   "cell_type": "code",
   "execution_count": 88,
   "metadata": {},
   "outputs": [
    {
     "name": "stdout",
     "output_type": "stream",
     "text": [
      "0.6644115758087229\n"
     ]
    }
   ],
   "source": [
    "# Stratified KFold\n",
    "from sklearn.model_selection import StratifiedKFold\n",
    "skfold=StratifiedKFold(n_splits=5)\n",
    "model = gb\n",
    "gb_scores=cross_val_score(model,x,y,cv=skfold)\n",
    "print(np.mean(gb_scores))"
   ]
  },
  {
   "cell_type": "code",
   "execution_count": 89,
   "metadata": {},
   "outputs": [
    {
     "name": "stdout",
     "output_type": "stream",
     "text": [
      "Bias error: 0.3355884241912771\n",
      "Variance error: 0.04243974756694439\n"
     ]
    }
   ],
   "source": [
    "# Bias and Variance error\n",
    "gb_bias = 1-np.mean(gb_scores)\n",
    "gb_var = np.std(gb_scores)/np.mean(gb_scores)\n",
    "print('Bias error:',gb_bias)\n",
    "print('Variance error:', gb_var)"
   ]
  },
  {
   "cell_type": "code",
   "execution_count": 90,
   "metadata": {},
   "outputs": [
    {
     "data": {
      "text/plain": [
       "Text(0.5, 1.0, 'ROC Curve')"
      ]
     },
     "execution_count": 90,
     "metadata": {},
     "output_type": "execute_result"
    },
    {
     "data": {
      "image/png": "[encoded data removed]",
      "text/plain": [
       "<Figure size 432x288 with 1 Axes>"
      ]
     },
     "metadata": {
      "needs_background": "light"
     },
     "output_type": "display_data"
    }
   ],
   "source": [
    "# ROC Curve\n",
    "prob = gb_model.predict_proba(x_test)\n",
    "prob = prob[:,1]\n",
    "fpr,tpr,thres = roc_curve(y_test,prob)\n",
    "roc_df = pd.DataFrame({'TPR':tpr,'FPR':fpr,'Threshold':thres})\n",
    "plt.plot(fpr,tpr)\n",
    "plt.plot([[0,0],[1,1]],color='red')\n",
    "plt.xlabel('FPR')\n",
    "plt.ylabel('TPR')\n",
    "plt.title('ROC Curve')"
   ]
  },
  {
   "cell_type": "markdown",
   "metadata": {},
   "source": [
    "#### ADA BOOST MODEL"
   ]
  },
  {
   "cell_type": "code",
   "execution_count": 91,
   "metadata": {},
   "outputs": [
    {
     "data": {
      "image/png": "[encoded data removed]",
      "text/plain": [
       "<Figure size 432x288 with 2 Axes>"
      ]
     },
     "metadata": {
      "needs_background": "light"
     },
     "output_type": "display_data"
    }
   ],
   "source": [
    "from sklearn.ensemble import AdaBoostClassifier\n",
    "ada = AdaBoostClassifier()\n",
    "ada_model = ada.fit(x_train,y_train)\n",
    "y_test_pred = ada_model.predict(x_test)\n",
    "y_train_pred = ada_model.predict(x_train)\n",
    "y_test_prob_1 = ada_model.predict_proba(x_test)[:,1]\n",
    "\n",
    "cm = confusion_matrix(y_test,y_test_pred)\n",
    "sns.heatmap(cm,annot=True,fmt='.0f');"
   ]
  },
  {
   "cell_type": "code",
   "execution_count": 92,
   "metadata": {
    "scrolled": false
   },
   "outputs": [
    {
     "name": "stdout",
     "output_type": "stream",
     "text": [
      "              precision    recall  f1-score   support\n",
      "\n",
      "           0       0.76      0.57      0.65      7372\n",
      "           1       0.66      0.82      0.73      7372\n",
      "\n",
      "    accuracy                           0.69     14744\n",
      "   macro avg       0.71      0.69      0.69     14744\n",
      "weighted avg       0.71      0.69      0.69     14744\n",
      "\n"
     ]
    }
   ],
   "source": [
    "print(classification_report(y_train,y_train_pred))"
   ]
  },
  {
   "cell_type": "code",
   "execution_count": 93,
   "metadata": {
    "scrolled": false
   },
   "outputs": [
    {
     "name": "stdout",
     "output_type": "stream",
     "text": [
      "              precision    recall  f1-score   support\n",
      "\n",
      "           0       0.37      0.23      0.28      1462\n",
      "           1       0.70      0.82      0.75      3191\n",
      "\n",
      "    accuracy                           0.63      4653\n",
      "   macro avg       0.53      0.52      0.52      4653\n",
      "weighted avg       0.59      0.63      0.61      4653\n",
      "\n"
     ]
    }
   ],
   "source": [
    "print(classification_report(y_test,y_test_pred))"
   ]
  },
  {
   "cell_type": "code",
   "execution_count": 94,
   "metadata": {},
   "outputs": [
    {
     "name": "stdout",
     "output_type": "stream",
     "text": [
      "Train accuracy =  0.6949945740640261\n",
      "Train accuracy =  0.6327100795185902\n"
     ]
    }
   ],
   "source": [
    "from sklearn.metrics import accuracy_score\n",
    "ada_accuracy_score_train = accuracy_score(y_train,y_train_pred)\n",
    "print(\"Train accuracy = \",ada_accuracy_score_train)\n",
    "ada_accuracy_score_test = accuracy_score(y_test,y_test_pred)\n",
    "print(\"Train accuracy = \",ada_accuracy_score_test)"
   ]
  },
  {
   "cell_type": "code",
   "execution_count": 95,
   "metadata": {},
   "outputs": [
    {
     "name": "stdout",
     "output_type": "stream",
     "text": [
      "0.6724061891392952\n"
     ]
    }
   ],
   "source": [
    "# Stratified KFold\n",
    "from sklearn.model_selection import StratifiedKFold\n",
    "skfold=StratifiedKFold(n_splits=5)\n",
    "model = ada\n",
    "ada_scores=cross_val_score(model,x,y,cv=skfold)\n",
    "print(np.mean(ada_scores))"
   ]
  },
  {
   "cell_type": "code",
   "execution_count": 96,
   "metadata": {},
   "outputs": [
    {
     "name": "stdout",
     "output_type": "stream",
     "text": [
      "Bias error: 0.3275938108607048\n",
      "Variance error: 0.011836032475669108\n"
     ]
    }
   ],
   "source": [
    "# Bias and Variance error\n",
    "ada_bias = 1-np.mean(ada_scores)\n",
    "ada_var = np.std(ada_scores)/np.mean(ada_scores)\n",
    "print('Bias error:',ada_bias)\n",
    "print('Variance error:', ada_var)"
   ]
  },
  {
   "cell_type": "code",
   "execution_count": 97,
   "metadata": {},
   "outputs": [
    {
     "data": {
      "text/plain": [
       "Text(0.5, 1.0, 'ROC Curve')"
      ]
     },
     "execution_count": 97,
     "metadata": {},
     "output_type": "execute_result"
    },
    {
     "data": {
      "image/png": "[encoded data removed]",
      "text/plain": [
       "<Figure size 432x288 with 1 Axes>"
      ]
     },
     "metadata": {
      "needs_background": "light"
     },
     "output_type": "display_data"
    }
   ],
   "source": [
    "# ROC Curve\n",
    "prob = ada_model.predict_proba(x_test)\n",
    "prob = prob[:,1]\n",
    "fpr,tpr,thres = roc_curve(y_test,prob)\n",
    "roc_df = pd.DataFrame({'TPR':tpr,'FPR':fpr,'Threshold':thres})\n",
    "plt.plot(fpr,tpr)\n",
    "plt.plot([[0,0],[1,1]],color='red')\n",
    "plt.xlabel('FPR')\n",
    "plt.ylabel('TPR')\n",
    "plt.title('ROC Curve')"
   ]
  },
  {
   "cell_type": "markdown",
   "metadata": {},
   "source": [
    "#### XG BOOSTING MODEL"
   ]
  },
  {
   "cell_type": "code",
   "execution_count": 98,
   "metadata": {},
   "outputs": [
    {
     "name": "stdout",
     "output_type": "stream",
     "text": [
      "[11:53:30] WARNING: C:/Users/Administrator/workspace/xgboost-win64_release_1.4.0/src/learner.cc:1095: Starting in XGBoost 1.3.0, the default evaluation metric used with the objective 'binary:logistic' was changed from 'error' to 'logloss'. Explicitly set eval_metric if you'd like to restore the old behavior.\n"
     ]
    },
    {
     "data": {
      "image/png": "[encoded data removed]",
      "text/plain": [
       "<Figure size 432x288 with 2 Axes>"
      ]
     },
     "metadata": {
      "needs_background": "light"
     },
     "output_type": "display_data"
    }
   ],
   "source": [
    "from xgboost import XGBClassifier\n",
    "xg = XGBClassifier()\n",
    "xg_model = xg.fit(x_train,y_train)\n",
    "y_test_pred = xg_model.predict(x_test)\n",
    "y_train_pred = xg_model.predict(x_train)\n",
    "\n",
    "cm = confusion_matrix(y_test,y_test_pred)\n",
    "sns.heatmap(cm,annot=True,fmt='.0f');"
   ]
  },
  {
   "cell_type": "code",
   "execution_count": 99,
   "metadata": {
    "scrolled": true
   },
   "outputs": [
    {
     "name": "stdout",
     "output_type": "stream",
     "text": [
      "              precision    recall  f1-score   support\n",
      "\n",
      "           0       0.78      0.56      0.65      7372\n",
      "           1       0.66      0.85      0.74      7372\n",
      "\n",
      "    accuracy                           0.70     14744\n",
      "   macro avg       0.72      0.70      0.70     14744\n",
      "weighted avg       0.72      0.70      0.70     14744\n",
      "\n"
     ]
    }
   ],
   "source": [
    "print(classification_report(y_train,y_train_pred))"
   ]
  },
  {
   "cell_type": "code",
   "execution_count": 100,
   "metadata": {
    "scrolled": false
   },
   "outputs": [
    {
     "name": "stdout",
     "output_type": "stream",
     "text": [
      "              precision    recall  f1-score   support\n",
      "\n",
      "           0       0.37      0.21      0.27      1462\n",
      "           1       0.70      0.84      0.76      3191\n",
      "\n",
      "    accuracy                           0.64      4653\n",
      "   macro avg       0.53      0.52      0.51      4653\n",
      "weighted avg       0.59      0.64      0.61      4653\n",
      "\n"
     ]
    }
   ],
   "source": [
    "print(classification_report(y_test,y_test_pred))"
   ]
  },
  {
   "cell_type": "code",
   "execution_count": 101,
   "metadata": {},
   "outputs": [
    {
     "name": "stdout",
     "output_type": "stream",
     "text": [
      "Train accuracy =  0.7032691264243082\n",
      "Train accuracy =  0.6393724478830862\n"
     ]
    }
   ],
   "source": [
    "from sklearn.metrics import accuracy_score\n",
    "xg_accuracy_score_train = accuracy_score(y_train,y_train_pred)\n",
    "print(\"Train accuracy = \",xg_accuracy_score_train)\n",
    "xg_accuracy_score_test = accuracy_score(y_test,y_test_pred)\n",
    "print(\"Train accuracy = \",xg_accuracy_score_test)"
   ]
  },
  {
   "cell_type": "code",
   "execution_count": 102,
   "metadata": {},
   "outputs": [
    {
     "name": "stdout",
     "output_type": "stream",
     "text": [
      "[11:53:32] WARNING: C:/Users/Administrator/workspace/xgboost-win64_release_1.4.0/src/learner.cc:1095: Starting in XGBoost 1.3.0, the default evaluation metric used with the objective 'binary:logistic' was changed from 'error' to 'logloss'. Explicitly set eval_metric if you'd like to restore the old behavior.\n",
      "[11:53:33] WARNING: C:/Users/Administrator/workspace/xgboost-win64_release_1.4.0/src/learner.cc:1095: Starting in XGBoost 1.3.0, the default evaluation metric used with the objective 'binary:logistic' was changed from 'error' to 'logloss'. Explicitly set eval_metric if you'd like to restore the old behavior.\n",
      "[11:53:34] WARNING: C:/Users/Administrator/workspace/xgboost-win64_release_1.4.0/src/learner.cc:1095: Starting in XGBoost 1.3.0, the default evaluation metric used with the objective 'binary:logistic' was changed from 'error' to 'logloss'. Explicitly set eval_metric if you'd like to restore the old behavior.\n",
      "[11:53:35] WARNING: C:/Users/Administrator/workspace/xgboost-win64_release_1.4.0/src/learner.cc:1095: Starting in XGBoost 1.3.0, the default evaluation metric used with the objective 'binary:logistic' was changed from 'error' to 'logloss'. Explicitly set eval_metric if you'd like to restore the old behavior.\n",
      "[11:53:36] WARNING: C:/Users/Administrator/workspace/xgboost-win64_release_1.4.0/src/learner.cc:1095: Starting in XGBoost 1.3.0, the default evaluation metric used with the objective 'binary:logistic' was changed from 'error' to 'logloss'. Explicitly set eval_metric if you'd like to restore the old behavior.\n",
      "0.5990861707013669\n"
     ]
    }
   ],
   "source": [
    "# Stratified KFold\n",
    "from sklearn.model_selection import StratifiedKFold\n",
    "skfold=StratifiedKFold(n_splits=5)\n",
    "model = xg\n",
    "xg_scores=cross_val_score(model,x,y,cv=skfold)\n",
    "print(np.mean(xg_scores))"
   ]
  },
  {
   "cell_type": "code",
   "execution_count": 103,
   "metadata": {},
   "outputs": [
    {
     "name": "stdout",
     "output_type": "stream",
     "text": [
      "Bias error: 0.3775045840124367\n",
      "Variance error: 0.07207080634732375\n"
     ]
    }
   ],
   "source": [
    "# Bias and Variance error\n",
    "xg_bias = 1-np.mean(xg_scores)\n",
    "xg_var = np.std(xg_scores)/np.mean(xg_scores)\n",
    "print('Bias error:',rf_bias)\n",
    "print('Variance error:', rf_var)"
   ]
  },
  {
   "cell_type": "code",
   "execution_count": 104,
   "metadata": {},
   "outputs": [
    {
     "data": {
      "text/plain": [
       "Text(0.5, 1.0, 'ROC Curve')"
      ]
     },
     "execution_count": 104,
     "metadata": {},
     "output_type": "execute_result"
    },
    {
     "data": {
      "image/png": "[encoded data removed]",
      "text/plain": [
       "<Figure size 432x288 with 1 Axes>"
      ]
     },
     "metadata": {
      "needs_background": "light"
     },
     "output_type": "display_data"
    }
   ],
   "source": [
    "# ROC Curve\n",
    "prob = xg_model.predict_proba(x_test)\n",
    "prob = prob[:,1]\n",
    "fpr,tpr,thres = roc_curve(y_test,prob)\n",
    "roc_df = pd.DataFrame({'TPR':tpr,'FPR':fpr,'Threshold':thres})\n",
    "plt.plot(fpr,tpr)\n",
    "plt.plot([[0,0],[1,1]],color='red')\n",
    "plt.xlabel('FPR')\n",
    "plt.ylabel('TPR')\n",
    "plt.title('ROC Curve')"
   ]
  }
 ],
 "metadata": {
  "kernelspec": {
   "display_name": "Python 3",
   "language": "python",
   "name": "python3"
  },
  "language_info": {
   "codemirror_mode": {
    "name": "ipython",
    "version": 3
   },
   "file_extension": ".py",
   "mimetype": "text/x-python",
   "name": "python",
   "nbconvert_exporter": "python",
   "pygments_lexer": "ipython3",
   "version": "3.8.5"
  }
 },
 "nbformat": 4,
 "nbformat_minor": 4
}
